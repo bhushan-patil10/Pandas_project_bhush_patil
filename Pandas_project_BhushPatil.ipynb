{
 "cells": [
  {
   "cell_type": "markdown",
   "id": "15ba12d0-1574-4022-8006-c2568af1711e",
   "metadata": {},
   "source": [
    "#### Pandas -\n",
    "\n",
    "- Works with tabular data\n"
   ]
  },
  {
   "cell_type": "markdown",
   "id": "2ad2998d-04e6-454b-b1db-7920294f682c",
   "metadata": {},
   "source": [
    "- Data Structures in Pandas\n",
    "\n",
    "  1. Series-  It has a Index and data\n",
    "  2. Data Frames- Similar to excel / sql table."
   ]
  },
  {
   "cell_type": "code",
   "execution_count": 5,
   "id": "720a8f1e-928f-476d-b16f-efb3b9908552",
   "metadata": {},
   "outputs": [],
   "source": [
    "# Importing pandas\n",
    "\n",
    "\n",
    "import pandas as pd"
   ]
  },
  {
   "cell_type": "markdown",
   "id": "aa45696b-4937-4ea7-bae2-ac16cff413f4",
   "metadata": {},
   "source": [
    "#### Series"
   ]
  },
  {
   "cell_type": "markdown",
   "id": "650ce4de-578b-4cca-b322-23bbd9641618",
   "metadata": {},
   "source": [
    "####  Syntax- pandas.Series(data=None, index=None, dtype=None, name=None, copy=None, fastpath=<no_default>)\n"
   ]
  },
  {
   "cell_type": "code",
   "execution_count": 6,
   "id": "32702682-3090-4082-8dd7-44faa3040b2c",
   "metadata": {},
   "outputs": [],
   "source": [
    "index_list= [0,1,2,3,4,5,6]\n",
    "\n",
    "data_list= [100,200,300,400,500,600,700]\n",
    "\n"
   ]
  },
  {
   "cell_type": "code",
   "execution_count": 11,
   "id": "353250f4-4ed4-4f30-9a44-e5d5963da29d",
   "metadata": {},
   "outputs": [],
   "source": [
    "series_1= pd.Series(data= data_list, index= index_list)"
   ]
  },
  {
   "cell_type": "code",
   "execution_count": 19,
   "id": "a67067ac-cd78-4bcf-b928-5ea0357f2827",
   "metadata": {},
   "outputs": [
    {
     "data": {
      "text/plain": [
       "0    100\n",
       "1    200\n",
       "2    300\n",
       "3    400\n",
       "4    500\n",
       "5    600\n",
       "6    700\n",
       "dtype: int64"
      ]
     },
     "execution_count": 19,
     "metadata": {},
     "output_type": "execute_result"
    }
   ],
   "source": [
    "series_1"
   ]
  },
  {
   "cell_type": "code",
   "execution_count": null,
   "id": "899feee3-6e87-4c50-87c2-3a96a866701a",
   "metadata": {},
   "outputs": [],
   "source": []
  },
  {
   "cell_type": "code",
   "execution_count": 24,
   "id": "9729d6a8-2091-4dd1-a66c-e3709e1ccdc0",
   "metadata": {},
   "outputs": [],
   "source": [
    "\n",
    "import pandas as pd\n",
    "\n",
    "\n",
    "month_2021 = ['Jan', 'Feb', 'Mar', 'Apr', 'May', 'Jun', \n",
    "              'Jul', 'Aug', 'Sep', 'Oct', 'Nov', 'Dec']\n",
    "\n",
    "revenue_2021 = [2323, 2445, 234, 3455, 5545, 45456, \n",
    "                657, 4566, 54435, 5455, 3555, 6787]"
   ]
  },
  {
   "cell_type": "code",
   "execution_count": 27,
   "id": "b509fb8e-d43c-4ec6-9def-453d6d9611a9",
   "metadata": {},
   "outputs": [],
   "source": [
    "revenue_series = pd.Series(data=revenue_2021, index=month_2021)"
   ]
  },
  {
   "cell_type": "code",
   "execution_count": 28,
   "id": "7a68dd2c-12fa-4c97-adde-4b35d12c3cfc",
   "metadata": {},
   "outputs": [
    {
     "data": {
      "text/plain": [
       "Jan     2323\n",
       "Feb     2445\n",
       "Mar      234\n",
       "Apr     3455\n",
       "May     5545\n",
       "Jun    45456\n",
       "Jul      657\n",
       "Aug     4566\n",
       "Sep    54435\n",
       "Oct     5455\n",
       "Nov     3555\n",
       "Dec     6787\n",
       "dtype: int64"
      ]
     },
     "execution_count": 28,
     "metadata": {},
     "output_type": "execute_result"
    }
   ],
   "source": [
    "revenue_series"
   ]
  },
  {
   "cell_type": "code",
   "execution_count": null,
   "id": "3bb79ce9-254c-4147-9167-ce8557674f2a",
   "metadata": {},
   "outputs": [],
   "source": []
  },
  {
   "cell_type": "markdown",
   "id": "7b8d9fd0-cbd2-43e2-9eed-300438c05501",
   "metadata": {},
   "source": [
    "#### Dictioneries"
   ]
  },
  {
   "cell_type": "markdown",
   "id": "9bfe5d83-2d3a-4f15-9d86-21e44d7a0295",
   "metadata": {},
   "source": [
    "#### With dictionaries the keys are read as indexes and the values ar read as data"
   ]
  },
  {
   "cell_type": "code",
   "execution_count": 30,
   "id": "c87816d7-701c-41b4-9129-d8a74726945a",
   "metadata": {},
   "outputs": [],
   "source": [
    "dict_1={'key1':'value1','key2':'value2','key3':'value3'}"
   ]
  },
  {
   "cell_type": "code",
   "execution_count": 31,
   "id": "32c91d0b-3560-4a42-84fa-982e0cbdec95",
   "metadata": {},
   "outputs": [
    {
     "data": {
      "text/plain": [
       "key1    value1\n",
       "key2    value2\n",
       "key3    value3\n",
       "dtype: object"
      ]
     },
     "execution_count": 31,
     "metadata": {},
     "output_type": "execute_result"
    }
   ],
   "source": [
    "pd.Series(data=dict_1,index=dict_1)"
   ]
  },
  {
   "cell_type": "code",
   "execution_count": null,
   "id": "6240304f-6914-47b8-b9d9-b0b0bab20470",
   "metadata": {},
   "outputs": [],
   "source": []
  },
  {
   "cell_type": "code",
   "execution_count": null,
   "id": "7437f3f6-f1c6-4b36-9968-65b74022985d",
   "metadata": {},
   "outputs": [],
   "source": []
  },
  {
   "cell_type": "markdown",
   "id": "968f1d66-41ad-4dcd-a93c-18e1daefc24c",
   "metadata": {},
   "source": [
    "#### Data Frames"
   ]
  },
  {
   "cell_type": "markdown",
   "id": "b100a693-0006-4462-bfe2-6e1e3085a886",
   "metadata": {},
   "source": [
    "#### Syntax-  pandas.DataFrame(data=None, index=None, columns=None, dtype=None, copy=None)"
   ]
  },
  {
   "cell_type": "code",
   "execution_count": 32,
   "id": "0cca8d1c-d18e-4fea-816d-b0137c23cce4",
   "metadata": {},
   "outputs": [],
   "source": [
    "row_labels = [0,1,2,3,4]\n",
    "column_labels = ['A','B','C']\n",
    "data = [[1,2,5],(4,2,4),{6,7,9},[3,2,4],[3,3,2]]"
   ]
  },
  {
   "cell_type": "code",
   "execution_count": 33,
   "id": "5a43b8f3-ff60-4e73-8c36-07ed8608b2d9",
   "metadata": {},
   "outputs": [],
   "source": [
    "# Creating a DataFame using the variables in the previous cell\n",
    "df = pd.DataFrame(index=row_labels, data=data, columns=column_labels)"
   ]
  },
  {
   "cell_type": "code",
   "execution_count": 34,
   "id": "ee896815-1e9a-4b64-b7b6-333a6c02b52b",
   "metadata": {},
   "outputs": [
    {
     "data": {
      "text/html": [
       "<div>\n",
       "<style scoped>\n",
       "    .dataframe tbody tr th:only-of-type {\n",
       "        vertical-align: middle;\n",
       "    }\n",
       "\n",
       "    .dataframe tbody tr th {\n",
       "        vertical-align: top;\n",
       "    }\n",
       "\n",
       "    .dataframe thead th {\n",
       "        text-align: right;\n",
       "    }\n",
       "</style>\n",
       "<table border=\"1\" class=\"dataframe\">\n",
       "  <thead>\n",
       "    <tr style=\"text-align: right;\">\n",
       "      <th></th>\n",
       "      <th>A</th>\n",
       "      <th>B</th>\n",
       "      <th>C</th>\n",
       "    </tr>\n",
       "  </thead>\n",
       "  <tbody>\n",
       "    <tr>\n",
       "      <th>0</th>\n",
       "      <td>1</td>\n",
       "      <td>2</td>\n",
       "      <td>5</td>\n",
       "    </tr>\n",
       "    <tr>\n",
       "      <th>1</th>\n",
       "      <td>4</td>\n",
       "      <td>2</td>\n",
       "      <td>4</td>\n",
       "    </tr>\n",
       "    <tr>\n",
       "      <th>2</th>\n",
       "      <td>9</td>\n",
       "      <td>6</td>\n",
       "      <td>7</td>\n",
       "    </tr>\n",
       "    <tr>\n",
       "      <th>3</th>\n",
       "      <td>3</td>\n",
       "      <td>2</td>\n",
       "      <td>4</td>\n",
       "    </tr>\n",
       "    <tr>\n",
       "      <th>4</th>\n",
       "      <td>3</td>\n",
       "      <td>3</td>\n",
       "      <td>2</td>\n",
       "    </tr>\n",
       "  </tbody>\n",
       "</table>\n",
       "</div>"
      ],
      "text/plain": [
       "   A  B  C\n",
       "0  1  2  5\n",
       "1  4  2  4\n",
       "2  9  6  7\n",
       "3  3  2  4\n",
       "4  3  3  2"
      ]
     },
     "execution_count": 34,
     "metadata": {},
     "output_type": "execute_result"
    }
   ],
   "source": [
    "df"
   ]
  },
  {
   "cell_type": "code",
   "execution_count": null,
   "id": "729a0333-e307-4bae-b742-d942b0ee1348",
   "metadata": {},
   "outputs": [],
   "source": []
  },
  {
   "cell_type": "markdown",
   "id": "23c8dea4-672b-4371-8929-1e089d96bebf",
   "metadata": {},
   "source": [
    "#### set_index()"
   ]
  },
  {
   "cell_type": "markdown",
   "id": "e4727afa-7732-4569-96ea-d6309f335214",
   "metadata": {},
   "source": [
    "#### The set_index() function can set an index using existing columns"
   ]
  },
  {
   "cell_type": "code",
   "execution_count": 35,
   "id": "4b0f0075-680c-4a48-baa9-d4ff8c5a71f9",
   "metadata": {},
   "outputs": [
    {
     "data": {
      "text/html": [
       "<div>\n",
       "<style scoped>\n",
       "    .dataframe tbody tr th:only-of-type {\n",
       "        vertical-align: middle;\n",
       "    }\n",
       "\n",
       "    .dataframe tbody tr th {\n",
       "        vertical-align: top;\n",
       "    }\n",
       "\n",
       "    .dataframe thead th {\n",
       "        text-align: right;\n",
       "    }\n",
       "</style>\n",
       "<table border=\"1\" class=\"dataframe\">\n",
       "  <thead>\n",
       "    <tr style=\"text-align: right;\">\n",
       "      <th></th>\n",
       "      <th>A</th>\n",
       "      <th>B</th>\n",
       "    </tr>\n",
       "    <tr>\n",
       "      <th>C</th>\n",
       "      <th></th>\n",
       "      <th></th>\n",
       "    </tr>\n",
       "  </thead>\n",
       "  <tbody>\n",
       "    <tr>\n",
       "      <th>5</th>\n",
       "      <td>1</td>\n",
       "      <td>2</td>\n",
       "    </tr>\n",
       "    <tr>\n",
       "      <th>4</th>\n",
       "      <td>4</td>\n",
       "      <td>2</td>\n",
       "    </tr>\n",
       "    <tr>\n",
       "      <th>7</th>\n",
       "      <td>9</td>\n",
       "      <td>6</td>\n",
       "    </tr>\n",
       "    <tr>\n",
       "      <th>4</th>\n",
       "      <td>3</td>\n",
       "      <td>2</td>\n",
       "    </tr>\n",
       "    <tr>\n",
       "      <th>2</th>\n",
       "      <td>3</td>\n",
       "      <td>3</td>\n",
       "    </tr>\n",
       "  </tbody>\n",
       "</table>\n",
       "</div>"
      ],
      "text/plain": [
       "   A  B\n",
       "C      \n",
       "5  1  2\n",
       "4  4  2\n",
       "7  9  6\n",
       "4  3  2\n",
       "2  3  3"
      ]
     },
     "execution_count": 35,
     "metadata": {},
     "output_type": "execute_result"
    }
   ],
   "source": [
    "# sets column 'C' as the index\n",
    "df.set_index('C')"
   ]
  },
  {
   "cell_type": "markdown",
   "id": "d16ac1fa-906e-465e-8ac9-fde31e2f51ca",
   "metadata": {},
   "source": [
    "####  reset_index()"
   ]
  },
  {
   "cell_type": "markdown",
   "id": "d85c7b83-94ed-4a78-aeb0-5152571456c6",
   "metadata": {},
   "source": [
    "The reset_index function resets the index"
   ]
  },
  {
   "cell_type": "code",
   "execution_count": 36,
   "id": "f31a149a-dfff-437b-bb7f-e5fec7846087",
   "metadata": {},
   "outputs": [],
   "source": [
    "df.reset_index(drop=True,inplace=True)"
   ]
  },
  {
   "cell_type": "code",
   "execution_count": 38,
   "id": "2a3baa21-f2cc-42c9-b3fa-3942fe3d454c",
   "metadata": {},
   "outputs": [
    {
     "data": {
      "text/html": [
       "<div>\n",
       "<style scoped>\n",
       "    .dataframe tbody tr th:only-of-type {\n",
       "        vertical-align: middle;\n",
       "    }\n",
       "\n",
       "    .dataframe tbody tr th {\n",
       "        vertical-align: top;\n",
       "    }\n",
       "\n",
       "    .dataframe thead th {\n",
       "        text-align: right;\n",
       "    }\n",
       "</style>\n",
       "<table border=\"1\" class=\"dataframe\">\n",
       "  <thead>\n",
       "    <tr style=\"text-align: right;\">\n",
       "      <th></th>\n",
       "      <th>A</th>\n",
       "      <th>B</th>\n",
       "      <th>C</th>\n",
       "    </tr>\n",
       "  </thead>\n",
       "  <tbody>\n",
       "    <tr>\n",
       "      <th>0</th>\n",
       "      <td>1</td>\n",
       "      <td>2</td>\n",
       "      <td>5</td>\n",
       "    </tr>\n",
       "    <tr>\n",
       "      <th>1</th>\n",
       "      <td>4</td>\n",
       "      <td>2</td>\n",
       "      <td>4</td>\n",
       "    </tr>\n",
       "    <tr>\n",
       "      <th>2</th>\n",
       "      <td>9</td>\n",
       "      <td>6</td>\n",
       "      <td>7</td>\n",
       "    </tr>\n",
       "    <tr>\n",
       "      <th>3</th>\n",
       "      <td>3</td>\n",
       "      <td>2</td>\n",
       "      <td>4</td>\n",
       "    </tr>\n",
       "    <tr>\n",
       "      <th>4</th>\n",
       "      <td>3</td>\n",
       "      <td>3</td>\n",
       "      <td>2</td>\n",
       "    </tr>\n",
       "  </tbody>\n",
       "</table>\n",
       "</div>"
      ],
      "text/plain": [
       "   A  B  C\n",
       "0  1  2  5\n",
       "1  4  2  4\n",
       "2  9  6  7\n",
       "3  3  2  4\n",
       "4  3  3  2"
      ]
     },
     "execution_count": 38,
     "metadata": {},
     "output_type": "execute_result"
    }
   ],
   "source": [
    "df"
   ]
  },
  {
   "cell_type": "code",
   "execution_count": null,
   "id": "7d0f2a25-40b5-45c9-b10d-c4c063c521e6",
   "metadata": {},
   "outputs": [],
   "source": []
  },
  {
   "cell_type": "markdown",
   "id": "89354133-e4ea-47e4-abbc-c2a92f547be9",
   "metadata": {},
   "source": []
  },
  {
   "cell_type": "markdown",
   "id": "9aa7eff2-2c9b-4ec4-92f1-3e2a22036790",
   "metadata": {},
   "source": [
    "## Project-   Employees Dataset"
   ]
  },
  {
   "cell_type": "markdown",
   "id": "aa9a7f45-9108-46e6-8f33-3a2ea6b47931",
   "metadata": {},
   "source": [
    "#### Dataset overview:\n",
    "There are three csv files containing tables stored in the same directory as this Notebook, they are all related to each other:\n",
    "\n",
    "• employees.csv: contains information about employees in a company. It contains their unique employee number (emp_no), their department number (dept_no), their hire date (hire_date) and their leaving date (leaving_date). The leaving date is blank if the employee is still employed by the company\n",
    "\n",
    "• departments.csv: This contains information about the departments in a company. It contains the deparment number (dept_no), the department name (dept_name) and location.\n",
    "\n",
    "• salaries.csv: This file contains the salaries of the employees. It contains a unique employee department key (emp_dept_key) and the salary. The emp_dept_key is in the format 'emp_id-dept_id'"
   ]
  },
  {
   "cell_type": "markdown",
   "id": "8d745eef-a298-40e5-a5de-8fcd9e77723b",
   "metadata": {},
   "source": [
    "####  Import pandas, numpy and datetime"
   ]
  },
  {
   "cell_type": "code",
   "execution_count": 39,
   "id": "0165e6d7-7e19-4447-a03b-098f319ee1aa",
   "metadata": {},
   "outputs": [],
   "source": [
    "import pandas as pd\n",
    "import numpy as np\n",
    "import datetime as dt"
   ]
  },
  {
   "cell_type": "markdown",
   "id": "a72bc670-8142-4069-b20d-d252d8e6fd27",
   "metadata": {},
   "source": [
    "#### Load the files:\n",
    "• \"employees.csv\" should be assigned to the variable emp\n",
    "\n",
    "• \"departments.csv\" should be assigned to the variable dept\n",
    "\n",
    "• \"salaries.csv\" should be assigned to the variable sal"
   ]
  },
  {
   "cell_type": "code",
   "execution_count": 40,
   "id": "0871fe6d-66f9-4332-9564-ed181e62362b",
   "metadata": {},
   "outputs": [],
   "source": [
    "emp = pd.read_csv('employees.csv')"
   ]
  },
  {
   "cell_type": "code",
   "execution_count": 41,
   "id": "c2dc5af4-8e4d-4610-8992-c1bb697526ea",
   "metadata": {},
   "outputs": [],
   "source": [
    "dept = pd.read_csv('departments.csv')"
   ]
  },
  {
   "cell_type": "code",
   "execution_count": 42,
   "id": "0ef53f38-97f5-4f74-a2cf-1c0bcaeab882",
   "metadata": {},
   "outputs": [],
   "source": [
    "sal = pd.read_csv('salaries.csv')"
   ]
  },
  {
   "cell_type": "code",
   "execution_count": null,
   "id": "17fa08db-5449-4905-8461-ca72e6dfe385",
   "metadata": {},
   "outputs": [],
   "source": []
  },
  {
   "cell_type": "markdown",
   "id": "5e273b68-64c1-4dd6-908b-8efc2aa2e977",
   "metadata": {},
   "source": [
    "##### Head and Tail   \n",
    "\n",
    "Head- Return the first 5 rows\n",
    "Tail- Return the last 5 rows\n",
    "\n",
    "Check the head of all three DataFrames"
   ]
  },
  {
   "cell_type": "code",
   "execution_count": 43,
   "id": "851f3580-7ca3-45dc-9cb2-4124a1dfe587",
   "metadata": {},
   "outputs": [
    {
     "data": {
      "text/html": [
       "<div>\n",
       "<style scoped>\n",
       "    .dataframe tbody tr th:only-of-type {\n",
       "        vertical-align: middle;\n",
       "    }\n",
       "\n",
       "    .dataframe tbody tr th {\n",
       "        vertical-align: top;\n",
       "    }\n",
       "\n",
       "    .dataframe thead th {\n",
       "        text-align: right;\n",
       "    }\n",
       "</style>\n",
       "<table border=\"1\" class=\"dataframe\">\n",
       "  <thead>\n",
       "    <tr style=\"text-align: right;\">\n",
       "      <th></th>\n",
       "      <th>emp_no</th>\n",
       "      <th>dept_no</th>\n",
       "      <th>hire_date</th>\n",
       "      <th>leaving_date</th>\n",
       "    </tr>\n",
       "  </thead>\n",
       "  <tbody>\n",
       "    <tr>\n",
       "      <th>0</th>\n",
       "      <td>10001</td>\n",
       "      <td>D5</td>\n",
       "      <td>26/06/2006</td>\n",
       "      <td>NaN</td>\n",
       "    </tr>\n",
       "    <tr>\n",
       "      <th>1</th>\n",
       "      <td>10002</td>\n",
       "      <td>D6</td>\n",
       "      <td>21/11/2005</td>\n",
       "      <td>NaN</td>\n",
       "    </tr>\n",
       "    <tr>\n",
       "      <th>2</th>\n",
       "      <td>10003</td>\n",
       "      <td>D4</td>\n",
       "      <td>28/08/2006</td>\n",
       "      <td>NaN</td>\n",
       "    </tr>\n",
       "    <tr>\n",
       "      <th>3</th>\n",
       "      <td>10004</td>\n",
       "      <td>D4</td>\n",
       "      <td>01/12/2006</td>\n",
       "      <td>NaN</td>\n",
       "    </tr>\n",
       "    <tr>\n",
       "      <th>4</th>\n",
       "      <td>10005</td>\n",
       "      <td>D3</td>\n",
       "      <td>12/09/2009</td>\n",
       "      <td>NaN</td>\n",
       "    </tr>\n",
       "  </tbody>\n",
       "</table>\n",
       "</div>"
      ],
      "text/plain": [
       "   emp_no dept_no   hire_date leaving_date\n",
       "0   10001      D5  26/06/2006          NaN\n",
       "1   10002      D6  21/11/2005          NaN\n",
       "2   10003      D4  28/08/2006          NaN\n",
       "3   10004      D4  01/12/2006          NaN\n",
       "4   10005      D3  12/09/2009          NaN"
      ]
     },
     "execution_count": 43,
     "metadata": {},
     "output_type": "execute_result"
    }
   ],
   "source": [
    "emp.head()"
   ]
  },
  {
   "cell_type": "code",
   "execution_count": 44,
   "id": "b683332e-97c7-4a6c-9517-10cce16fb656",
   "metadata": {},
   "outputs": [
    {
     "data": {
      "text/html": [
       "<div>\n",
       "<style scoped>\n",
       "    .dataframe tbody tr th:only-of-type {\n",
       "        vertical-align: middle;\n",
       "    }\n",
       "\n",
       "    .dataframe tbody tr th {\n",
       "        vertical-align: top;\n",
       "    }\n",
       "\n",
       "    .dataframe thead th {\n",
       "        text-align: right;\n",
       "    }\n",
       "</style>\n",
       "<table border=\"1\" class=\"dataframe\">\n",
       "  <thead>\n",
       "    <tr style=\"text-align: right;\">\n",
       "      <th></th>\n",
       "      <th>dept_no</th>\n",
       "      <th>dept_name</th>\n",
       "      <th>location</th>\n",
       "    </tr>\n",
       "  </thead>\n",
       "  <tbody>\n",
       "    <tr>\n",
       "      <th>0</th>\n",
       "      <td>D1</td>\n",
       "      <td>Accounting and Finance</td>\n",
       "      <td>Chicago</td>\n",
       "    </tr>\n",
       "    <tr>\n",
       "      <th>1</th>\n",
       "      <td>D2</td>\n",
       "      <td>Human Resources</td>\n",
       "      <td>New York</td>\n",
       "    </tr>\n",
       "    <tr>\n",
       "      <th>2</th>\n",
       "      <td>D3</td>\n",
       "      <td>Supply Chain Operations</td>\n",
       "      <td>Chicago</td>\n",
       "    </tr>\n",
       "    <tr>\n",
       "      <th>3</th>\n",
       "      <td>D4</td>\n",
       "      <td>Marketing</td>\n",
       "      <td>New York</td>\n",
       "    </tr>\n",
       "    <tr>\n",
       "      <th>4</th>\n",
       "      <td>D5</td>\n",
       "      <td>Technology</td>\n",
       "      <td>Chicago</td>\n",
       "    </tr>\n",
       "  </tbody>\n",
       "</table>\n",
       "</div>"
      ],
      "text/plain": [
       "  dept_no                dept_name  location\n",
       "0      D1   Accounting and Finance   Chicago\n",
       "1      D2          Human Resources  New York\n",
       "2      D3  Supply Chain Operations   Chicago\n",
       "3      D4                Marketing  New York\n",
       "4      D5               Technology   Chicago"
      ]
     },
     "execution_count": 44,
     "metadata": {},
     "output_type": "execute_result"
    }
   ],
   "source": [
    "dept.head()"
   ]
  },
  {
   "cell_type": "code",
   "execution_count": 45,
   "id": "22365fcf-0c08-49cc-ad98-2efbcda7b495",
   "metadata": {},
   "outputs": [
    {
     "data": {
      "text/html": [
       "<div>\n",
       "<style scoped>\n",
       "    .dataframe tbody tr th:only-of-type {\n",
       "        vertical-align: middle;\n",
       "    }\n",
       "\n",
       "    .dataframe tbody tr th {\n",
       "        vertical-align: top;\n",
       "    }\n",
       "\n",
       "    .dataframe thead th {\n",
       "        text-align: right;\n",
       "    }\n",
       "</style>\n",
       "<table border=\"1\" class=\"dataframe\">\n",
       "  <thead>\n",
       "    <tr style=\"text-align: right;\">\n",
       "      <th></th>\n",
       "      <th>emp_dept_key</th>\n",
       "      <th>salary</th>\n",
       "    </tr>\n",
       "  </thead>\n",
       "  <tbody>\n",
       "    <tr>\n",
       "      <th>0</th>\n",
       "      <td>10001-D5</td>\n",
       "      <td>30546</td>\n",
       "    </tr>\n",
       "    <tr>\n",
       "      <th>1</th>\n",
       "      <td>10002-D6</td>\n",
       "      <td>36536</td>\n",
       "    </tr>\n",
       "    <tr>\n",
       "      <th>2</th>\n",
       "      <td>10003-D4</td>\n",
       "      <td>38323</td>\n",
       "    </tr>\n",
       "    <tr>\n",
       "      <th>3</th>\n",
       "      <td>10004-D4</td>\n",
       "      <td>31851</td>\n",
       "    </tr>\n",
       "    <tr>\n",
       "      <th>4</th>\n",
       "      <td>10005-D3</td>\n",
       "      <td>53435</td>\n",
       "    </tr>\n",
       "  </tbody>\n",
       "</table>\n",
       "</div>"
      ],
      "text/plain": [
       "  emp_dept_key  salary\n",
       "0     10001-D5   30546\n",
       "1     10002-D6   36536\n",
       "2     10003-D4   38323\n",
       "3     10004-D4   31851\n",
       "4     10005-D3   53435"
      ]
     },
     "execution_count": 45,
     "metadata": {},
     "output_type": "execute_result"
    }
   ],
   "source": [
    "sal.head()"
   ]
  },
  {
   "cell_type": "markdown",
   "id": "342831ce-1570-453c-8c21-7036c26e5026",
   "metadata": {},
   "source": [
    "##### Check the data types of all three DataFrames"
   ]
  },
  {
   "cell_type": "code",
   "execution_count": 46,
   "id": "11b7b310-972d-4062-80c9-06813865d4c1",
   "metadata": {},
   "outputs": [
    {
     "data": {
      "text/plain": [
       "emp_no           int64\n",
       "dept_no         object\n",
       "hire_date       object\n",
       "leaving_date    object\n",
       "dtype: object"
      ]
     },
     "execution_count": 46,
     "metadata": {},
     "output_type": "execute_result"
    }
   ],
   "source": [
    "emp.dtypes"
   ]
  },
  {
   "cell_type": "code",
   "execution_count": 48,
   "id": "38abc6bb-1173-4d5a-9438-e7613ef423cf",
   "metadata": {},
   "outputs": [
    {
     "data": {
      "text/plain": [
       "dept_no      object\n",
       "dept_name    object\n",
       "location     object\n",
       "dtype: object"
      ]
     },
     "execution_count": 48,
     "metadata": {},
     "output_type": "execute_result"
    }
   ],
   "source": [
    "dept.dtypes"
   ]
  },
  {
   "cell_type": "code",
   "execution_count": 49,
   "id": "0950c122-37a9-45e8-aed0-75123d4eb783",
   "metadata": {},
   "outputs": [
    {
     "data": {
      "text/plain": [
       "emp_dept_key    object\n",
       "salary           int64\n",
       "dtype: object"
      ]
     },
     "execution_count": 49,
     "metadata": {},
     "output_type": "execute_result"
    }
   ],
   "source": [
    "sal.dtypes"
   ]
  },
  {
   "cell_type": "code",
   "execution_count": null,
   "id": "f5240923-0f2a-4792-a88c-de7b29ab1245",
   "metadata": {},
   "outputs": [],
   "source": []
  },
  {
   "cell_type": "markdown",
   "id": "676110f1-156a-4ddf-ad7a-de55b296f520",
   "metadata": {},
   "source": [
    "#### Change the data types accordingly.\n",
    "• emp_no, dept_no, dept_name, location, emp_dept_key should all be string data types\n",
    "\n",
    "• hire_date and leaving_date should be datetime64\n",
    "\n",
    "• salary should be int64"
   ]
  },
  {
   "cell_type": "code",
   "execution_count": 51,
   "id": "d0b447de-6f76-42ae-9b81-674e14445047",
   "metadata": {},
   "outputs": [],
   "source": [
    "emp[['emp_no', 'dept_no']]= emp[['emp_no', 'dept_no']].astype('string')"
   ]
  },
  {
   "cell_type": "code",
   "execution_count": 53,
   "id": "ad6249a5-3cf9-4560-acbd-00a1bf756775",
   "metadata": {},
   "outputs": [],
   "source": [
    "emp['hire_date'] = pd.to_datetime(emp['hire_date'], format = '%d/%m/%Y')"
   ]
  },
  {
   "cell_type": "code",
   "execution_count": 56,
   "id": "89d7044b-3b71-4019-82f1-6eba0d9960eb",
   "metadata": {},
   "outputs": [],
   "source": [
    "emp['leaving_date']= pd.to_datetime(emp['leaving_date'], format= '%d/%m/%Y')"
   ]
  },
  {
   "cell_type": "code",
   "execution_count": 57,
   "id": "320ee9dc-0003-463a-b7f7-bd62efbd73d5",
   "metadata": {},
   "outputs": [],
   "source": [
    "dept[['dept_no', 'dept_name', 'location']] = dept[['dept_no', 'dept_name', 'location']].astype('string')"
   ]
  },
  {
   "cell_type": "code",
   "execution_count": 63,
   "id": "ec03f6e9-efe4-43c7-b34f-55759a99084a",
   "metadata": {},
   "outputs": [],
   "source": [
    "sal['emp_dept_key']= sal['emp_dept_key'].astype('string')"
   ]
  },
  {
   "cell_type": "code",
   "execution_count": null,
   "id": "5930ffb1-b18e-427c-9942-526f32c27d19",
   "metadata": {},
   "outputs": [],
   "source": []
  },
  {
   "cell_type": "markdown",
   "id": "33e7d4ec-1c64-474a-82b9-e49356cfef08",
   "metadata": {},
   "source": [
    "#### How many employees are currently working at the company."
   ]
  },
  {
   "cell_type": "markdown",
   "id": "e04e3d42-f12b-4e9d-958c-908c3bec379f",
   "metadata": {},
   "source": [
    "The employees still employed, but do not have a leaving date value. \n",
    "You can use the isnull() method to identify nulls or NaN values."
   ]
  },
  {
   "cell_type": "code",
   "execution_count": 64,
   "id": "06617e1e-1cb3-4bb8-bc00-87dc93bfef94",
   "metadata": {},
   "outputs": [
    {
     "data": {
      "text/plain": [
       "0       True\n",
       "1       True\n",
       "2       True\n",
       "3       True\n",
       "4       True\n",
       "       ...  \n",
       "995     True\n",
       "996     True\n",
       "997    False\n",
       "998    False\n",
       "999     True\n",
       "Name: leaving_date, Length: 1000, dtype: bool"
      ]
     },
     "execution_count": 64,
     "metadata": {},
     "output_type": "execute_result"
    }
   ],
   "source": [
    "# isnull() returns True when the 'leaving date' column contains a null value\n",
    "emp['leaving_date'].isnull()"
   ]
  },
  {
   "cell_type": "code",
   "execution_count": 65,
   "id": "ca523f35-3e50-4eca-8812-fed15f1ce4c6",
   "metadata": {},
   "outputs": [
    {
     "data": {
      "text/plain": [
       "emp_no          741\n",
       "dept_no         741\n",
       "hire_date       741\n",
       "leaving_date      0\n",
       "dtype: int64"
      ]
     },
     "execution_count": 65,
     "metadata": {},
     "output_type": "execute_result"
    }
   ],
   "source": [
    "# We can use the above to perform boolean indexing and filter the records and then count the filtered records\n",
    "emp[emp['leaving_date'].isnull() == True].count()"
   ]
  },
  {
   "cell_type": "markdown",
   "id": "d4c4949a-48c3-48f3-befa-becba0463602",
   "metadata": {},
   "source": [
    "So there are 741 employees which are currently working"
   ]
  },
  {
   "cell_type": "code",
   "execution_count": null,
   "id": "ea5207fc-6b32-45b0-8243-47b8a0b35f96",
   "metadata": {},
   "outputs": [],
   "source": []
  },
  {
   "cell_type": "markdown",
   "id": "b996f4a4-5723-43ce-85f3-de414f175959",
   "metadata": {},
   "source": [
    "#### How many currently employed people are there per department."
   ]
  },
  {
   "cell_type": "code",
   "execution_count": 66,
   "id": "baa03c2e-d873-413d-8bed-9d370fa4e87c",
   "metadata": {},
   "outputs": [],
   "source": [
    "current_emp = emp[emp['leaving_date'].isnull() == True]"
   ]
  },
  {
   "cell_type": "code",
   "execution_count": 68,
   "id": "11bc86bc-bbb1-434e-ace0-070b9fad273b",
   "metadata": {},
   "outputs": [
    {
     "data": {
      "text/plain": [
       "dept_no\n",
       "D1     84\n",
       "D2     36\n",
       "D3     94\n",
       "D4    171\n",
       "D5    188\n",
       "D6    168\n",
       "Name: emp_no, dtype: int64"
      ]
     },
     "execution_count": 68,
     "metadata": {},
     "output_type": "execute_result"
    }
   ],
   "source": [
    "current_emp.groupby(by='dept_no').count()['emp_no']"
   ]
  },
  {
   "cell_type": "markdown",
   "id": "b8cc7531-e413-42fb-a21e-3da709f78fe2",
   "metadata": {},
   "source": [
    "It gives the total emp per dept."
   ]
  },
  {
   "cell_type": "code",
   "execution_count": null,
   "id": "1682d609-bc5b-46ac-a8fc-34cdec4a5da4",
   "metadata": {},
   "outputs": [],
   "source": []
  },
  {
   "cell_type": "markdown",
   "id": "b841428c-b248-405d-aae0-b7bd10a3f83a",
   "metadata": {},
   "source": [
    "#### Perform a left join on the emp and dept DataFrames (with emp as the left DF). Assign the result of this to the variable emp_dept"
   ]
  },
  {
   "cell_type": "code",
   "execution_count": 69,
   "id": "7842cbef-7688-4fcc-a0ec-850bcd72b146",
   "metadata": {},
   "outputs": [],
   "source": [
    "emp_dept = pd.merge(left=emp,right=dept,left_on='dept_no', right_on = 'dept_no', how='left')"
   ]
  },
  {
   "cell_type": "code",
   "execution_count": 70,
   "id": "819cff96-42ed-4187-83d4-32923ab0bac0",
   "metadata": {},
   "outputs": [
    {
     "data": {
      "text/html": [
       "<div>\n",
       "<style scoped>\n",
       "    .dataframe tbody tr th:only-of-type {\n",
       "        vertical-align: middle;\n",
       "    }\n",
       "\n",
       "    .dataframe tbody tr th {\n",
       "        vertical-align: top;\n",
       "    }\n",
       "\n",
       "    .dataframe thead th {\n",
       "        text-align: right;\n",
       "    }\n",
       "</style>\n",
       "<table border=\"1\" class=\"dataframe\">\n",
       "  <thead>\n",
       "    <tr style=\"text-align: right;\">\n",
       "      <th></th>\n",
       "      <th>emp_no</th>\n",
       "      <th>dept_no</th>\n",
       "      <th>hire_date</th>\n",
       "      <th>leaving_date</th>\n",
       "      <th>dept_name</th>\n",
       "      <th>location</th>\n",
       "    </tr>\n",
       "  </thead>\n",
       "  <tbody>\n",
       "    <tr>\n",
       "      <th>0</th>\n",
       "      <td>10001</td>\n",
       "      <td>D5</td>\n",
       "      <td>2006-06-26</td>\n",
       "      <td>NaT</td>\n",
       "      <td>Technology</td>\n",
       "      <td>Chicago</td>\n",
       "    </tr>\n",
       "    <tr>\n",
       "      <th>1</th>\n",
       "      <td>10002</td>\n",
       "      <td>D6</td>\n",
       "      <td>2005-11-21</td>\n",
       "      <td>NaT</td>\n",
       "      <td>Sales</td>\n",
       "      <td>Chicago</td>\n",
       "    </tr>\n",
       "    <tr>\n",
       "      <th>2</th>\n",
       "      <td>10003</td>\n",
       "      <td>D4</td>\n",
       "      <td>2006-08-28</td>\n",
       "      <td>NaT</td>\n",
       "      <td>Marketing</td>\n",
       "      <td>New York</td>\n",
       "    </tr>\n",
       "    <tr>\n",
       "      <th>3</th>\n",
       "      <td>10004</td>\n",
       "      <td>D4</td>\n",
       "      <td>2006-12-01</td>\n",
       "      <td>NaT</td>\n",
       "      <td>Marketing</td>\n",
       "      <td>New York</td>\n",
       "    </tr>\n",
       "    <tr>\n",
       "      <th>4</th>\n",
       "      <td>10005</td>\n",
       "      <td>D3</td>\n",
       "      <td>2009-09-12</td>\n",
       "      <td>NaT</td>\n",
       "      <td>Supply Chain Operations</td>\n",
       "      <td>Chicago</td>\n",
       "    </tr>\n",
       "  </tbody>\n",
       "</table>\n",
       "</div>"
      ],
      "text/plain": [
       "  emp_no dept_no  hire_date leaving_date                dept_name  location\n",
       "0  10001      D5 2006-06-26          NaT               Technology   Chicago\n",
       "1  10002      D6 2005-11-21          NaT                    Sales   Chicago\n",
       "2  10003      D4 2006-08-28          NaT                Marketing  New York\n",
       "3  10004      D4 2006-12-01          NaT                Marketing  New York\n",
       "4  10005      D3 2009-09-12          NaT  Supply Chain Operations   Chicago"
      ]
     },
     "execution_count": 70,
     "metadata": {},
     "output_type": "execute_result"
    }
   ],
   "source": [
    "emp_dept.head()"
   ]
  },
  {
   "cell_type": "code",
   "execution_count": null,
   "id": "da2b6c7b-6e77-4550-b89f-87fa65fa4add",
   "metadata": {},
   "outputs": [],
   "source": []
  },
  {
   "cell_type": "markdown",
   "id": "5316776f-71f7-4872-b371-9b314fec4f46",
   "metadata": {},
   "source": [
    "#### Perform a left join on the newly created \"emp_dept\" DataFrame and the \"sal\" DataFrame.¶\n",
    "Assign this resulting DataFrame to the variable \"\""
   ]
  },
  {
   "cell_type": "code",
   "execution_count": 71,
   "id": "b7828658-d393-4d1e-8e11-02d03fb0b3ff",
   "metadata": {},
   "outputs": [
    {
     "data": {
      "text/html": [
       "<div>\n",
       "<style scoped>\n",
       "    .dataframe tbody tr th:only-of-type {\n",
       "        vertical-align: middle;\n",
       "    }\n",
       "\n",
       "    .dataframe tbody tr th {\n",
       "        vertical-align: top;\n",
       "    }\n",
       "\n",
       "    .dataframe thead th {\n",
       "        text-align: right;\n",
       "    }\n",
       "</style>\n",
       "<table border=\"1\" class=\"dataframe\">\n",
       "  <thead>\n",
       "    <tr style=\"text-align: right;\">\n",
       "      <th></th>\n",
       "      <th>emp_dept_key</th>\n",
       "      <th>salary</th>\n",
       "    </tr>\n",
       "  </thead>\n",
       "  <tbody>\n",
       "    <tr>\n",
       "      <th>0</th>\n",
       "      <td>10001-D5</td>\n",
       "      <td>30546</td>\n",
       "    </tr>\n",
       "    <tr>\n",
       "      <th>1</th>\n",
       "      <td>10002-D6</td>\n",
       "      <td>36536</td>\n",
       "    </tr>\n",
       "    <tr>\n",
       "      <th>2</th>\n",
       "      <td>10003-D4</td>\n",
       "      <td>38323</td>\n",
       "    </tr>\n",
       "    <tr>\n",
       "      <th>3</th>\n",
       "      <td>10004-D4</td>\n",
       "      <td>31851</td>\n",
       "    </tr>\n",
       "    <tr>\n",
       "      <th>4</th>\n",
       "      <td>10005-D3</td>\n",
       "      <td>53435</td>\n",
       "    </tr>\n",
       "  </tbody>\n",
       "</table>\n",
       "</div>"
      ],
      "text/plain": [
       "  emp_dept_key  salary\n",
       "0     10001-D5   30546\n",
       "1     10002-D6   36536\n",
       "2     10003-D4   38323\n",
       "3     10004-D4   31851\n",
       "4     10005-D3   53435"
      ]
     },
     "execution_count": 71,
     "metadata": {},
     "output_type": "execute_result"
    }
   ],
   "source": [
    "sal.head()"
   ]
  },
  {
   "cell_type": "code",
   "execution_count": 72,
   "id": "ab22bc67-e5c6-4586-8d70-968f7b487a6d",
   "metadata": {},
   "outputs": [],
   "source": [
    "# We can use lambda and apply to slice the emp_dept_key column values\n",
    "sal['emp_no']=sal['emp_dept_key'].apply(lambda x :x[:5])   ## This returns the first 5 characters from the column emp_dept_key \n",
    "                                                           ##( so it will match the col emp_no from emp_dept table)"
   ]
  },
  {
   "cell_type": "code",
   "execution_count": 75,
   "id": "93791c0b-571c-4bcd-9548-f9967810a491",
   "metadata": {},
   "outputs": [],
   "source": [
    "emp_dept_sal= pd.merge(left= emp_dept, right= sal, left_on= 'emp_no', right_on = 'emp_no', how='left')\n"
   ]
  },
  {
   "cell_type": "code",
   "execution_count": 76,
   "id": "448c40ef-4dc9-4989-b5b3-a4a338fccf65",
   "metadata": {},
   "outputs": [
    {
     "data": {
      "text/html": [
       "<div>\n",
       "<style scoped>\n",
       "    .dataframe tbody tr th:only-of-type {\n",
       "        vertical-align: middle;\n",
       "    }\n",
       "\n",
       "    .dataframe tbody tr th {\n",
       "        vertical-align: top;\n",
       "    }\n",
       "\n",
       "    .dataframe thead th {\n",
       "        text-align: right;\n",
       "    }\n",
       "</style>\n",
       "<table border=\"1\" class=\"dataframe\">\n",
       "  <thead>\n",
       "    <tr style=\"text-align: right;\">\n",
       "      <th></th>\n",
       "      <th>emp_no</th>\n",
       "      <th>dept_no</th>\n",
       "      <th>hire_date</th>\n",
       "      <th>leaving_date</th>\n",
       "      <th>dept_name</th>\n",
       "      <th>location</th>\n",
       "      <th>emp_dept_key</th>\n",
       "      <th>salary</th>\n",
       "    </tr>\n",
       "  </thead>\n",
       "  <tbody>\n",
       "    <tr>\n",
       "      <th>0</th>\n",
       "      <td>10001</td>\n",
       "      <td>D5</td>\n",
       "      <td>2006-06-26</td>\n",
       "      <td>NaT</td>\n",
       "      <td>Technology</td>\n",
       "      <td>Chicago</td>\n",
       "      <td>10001-D5</td>\n",
       "      <td>30546</td>\n",
       "    </tr>\n",
       "    <tr>\n",
       "      <th>1</th>\n",
       "      <td>10002</td>\n",
       "      <td>D6</td>\n",
       "      <td>2005-11-21</td>\n",
       "      <td>NaT</td>\n",
       "      <td>Sales</td>\n",
       "      <td>Chicago</td>\n",
       "      <td>10002-D6</td>\n",
       "      <td>36536</td>\n",
       "    </tr>\n",
       "    <tr>\n",
       "      <th>2</th>\n",
       "      <td>10003</td>\n",
       "      <td>D4</td>\n",
       "      <td>2006-08-28</td>\n",
       "      <td>NaT</td>\n",
       "      <td>Marketing</td>\n",
       "      <td>New York</td>\n",
       "      <td>10003-D4</td>\n",
       "      <td>38323</td>\n",
       "    </tr>\n",
       "    <tr>\n",
       "      <th>3</th>\n",
       "      <td>10004</td>\n",
       "      <td>D4</td>\n",
       "      <td>2006-12-01</td>\n",
       "      <td>NaT</td>\n",
       "      <td>Marketing</td>\n",
       "      <td>New York</td>\n",
       "      <td>10004-D4</td>\n",
       "      <td>31851</td>\n",
       "    </tr>\n",
       "    <tr>\n",
       "      <th>4</th>\n",
       "      <td>10005</td>\n",
       "      <td>D3</td>\n",
       "      <td>2009-09-12</td>\n",
       "      <td>NaT</td>\n",
       "      <td>Supply Chain Operations</td>\n",
       "      <td>Chicago</td>\n",
       "      <td>10005-D3</td>\n",
       "      <td>53435</td>\n",
       "    </tr>\n",
       "  </tbody>\n",
       "</table>\n",
       "</div>"
      ],
      "text/plain": [
       "  emp_no dept_no  hire_date leaving_date                dept_name  location  \\\n",
       "0  10001      D5 2006-06-26          NaT               Technology   Chicago   \n",
       "1  10002      D6 2005-11-21          NaT                    Sales   Chicago   \n",
       "2  10003      D4 2006-08-28          NaT                Marketing  New York   \n",
       "3  10004      D4 2006-12-01          NaT                Marketing  New York   \n",
       "4  10005      D3 2009-09-12          NaT  Supply Chain Operations   Chicago   \n",
       "\n",
       "  emp_dept_key  salary  \n",
       "0     10001-D5   30546  \n",
       "1     10002-D6   36536  \n",
       "2     10003-D4   38323  \n",
       "3     10004-D4   31851  \n",
       "4     10005-D3   53435  "
      ]
     },
     "execution_count": 76,
     "metadata": {},
     "output_type": "execute_result"
    }
   ],
   "source": [
    "emp_dept_sal.head()"
   ]
  },
  {
   "cell_type": "markdown",
   "id": "088e323e-7209-4e3b-80c6-b74e962e2188",
   "metadata": {},
   "source": [
    "#### Drop the column \"emp_dept_key\""
   ]
  },
  {
   "cell_type": "code",
   "execution_count": 77,
   "id": "b6320c64-bc2d-4e15-b472-9ee292e5ff08",
   "metadata": {},
   "outputs": [],
   "source": [
    "emp_dept_sal.drop(columns='emp_dept_key', inplace=True)"
   ]
  },
  {
   "cell_type": "code",
   "execution_count": 80,
   "id": "3f716896-e32b-4e15-85d8-05254a16e4ed",
   "metadata": {},
   "outputs": [
    {
     "data": {
      "text/html": [
       "<div>\n",
       "<style scoped>\n",
       "    .dataframe tbody tr th:only-of-type {\n",
       "        vertical-align: middle;\n",
       "    }\n",
       "\n",
       "    .dataframe tbody tr th {\n",
       "        vertical-align: top;\n",
       "    }\n",
       "\n",
       "    .dataframe thead th {\n",
       "        text-align: right;\n",
       "    }\n",
       "</style>\n",
       "<table border=\"1\" class=\"dataframe\">\n",
       "  <thead>\n",
       "    <tr style=\"text-align: right;\">\n",
       "      <th></th>\n",
       "      <th>emp_no</th>\n",
       "      <th>dept_no</th>\n",
       "      <th>hire_date</th>\n",
       "      <th>leaving_date</th>\n",
       "      <th>dept_name</th>\n",
       "      <th>location</th>\n",
       "      <th>salary</th>\n",
       "    </tr>\n",
       "  </thead>\n",
       "  <tbody>\n",
       "    <tr>\n",
       "      <th>0</th>\n",
       "      <td>10001</td>\n",
       "      <td>D5</td>\n",
       "      <td>2006-06-26</td>\n",
       "      <td>NaT</td>\n",
       "      <td>Technology</td>\n",
       "      <td>Chicago</td>\n",
       "      <td>30546</td>\n",
       "    </tr>\n",
       "    <tr>\n",
       "      <th>1</th>\n",
       "      <td>10002</td>\n",
       "      <td>D6</td>\n",
       "      <td>2005-11-21</td>\n",
       "      <td>NaT</td>\n",
       "      <td>Sales</td>\n",
       "      <td>Chicago</td>\n",
       "      <td>36536</td>\n",
       "    </tr>\n",
       "    <tr>\n",
       "      <th>2</th>\n",
       "      <td>10003</td>\n",
       "      <td>D4</td>\n",
       "      <td>2006-08-28</td>\n",
       "      <td>NaT</td>\n",
       "      <td>Marketing</td>\n",
       "      <td>New York</td>\n",
       "      <td>38323</td>\n",
       "    </tr>\n",
       "    <tr>\n",
       "      <th>3</th>\n",
       "      <td>10004</td>\n",
       "      <td>D4</td>\n",
       "      <td>2006-12-01</td>\n",
       "      <td>NaT</td>\n",
       "      <td>Marketing</td>\n",
       "      <td>New York</td>\n",
       "      <td>31851</td>\n",
       "    </tr>\n",
       "    <tr>\n",
       "      <th>4</th>\n",
       "      <td>10005</td>\n",
       "      <td>D3</td>\n",
       "      <td>2009-09-12</td>\n",
       "      <td>NaT</td>\n",
       "      <td>Supply Chain Operations</td>\n",
       "      <td>Chicago</td>\n",
       "      <td>53435</td>\n",
       "    </tr>\n",
       "  </tbody>\n",
       "</table>\n",
       "</div>"
      ],
      "text/plain": [
       "  emp_no dept_no  hire_date leaving_date                dept_name  location  \\\n",
       "0  10001      D5 2006-06-26          NaT               Technology   Chicago   \n",
       "1  10002      D6 2005-11-21          NaT                    Sales   Chicago   \n",
       "2  10003      D4 2006-08-28          NaT                Marketing  New York   \n",
       "3  10004      D4 2006-12-01          NaT                Marketing  New York   \n",
       "4  10005      D3 2009-09-12          NaT  Supply Chain Operations   Chicago   \n",
       "\n",
       "   salary  \n",
       "0   30546  \n",
       "1   36536  \n",
       "2   38323  \n",
       "3   31851  \n",
       "4   53435  "
      ]
     },
     "execution_count": 80,
     "metadata": {},
     "output_type": "execute_result"
    }
   ],
   "source": [
    "emp_dept_sal.head()"
   ]
  },
  {
   "cell_type": "code",
   "execution_count": null,
   "id": "debad88b-eef7-4ba1-a777-46c0cf95a794",
   "metadata": {},
   "outputs": [],
   "source": []
  },
  {
   "cell_type": "markdown",
   "id": "fd7999a4-6f50-4945-b370-ce475e6ef81f",
   "metadata": {},
   "source": [
    "#### What is the average salary per department?"
   ]
  },
  {
   "cell_type": "code",
   "execution_count": 81,
   "id": "9b09d760-e083-4106-b0ba-7324326bfe10",
   "metadata": {},
   "outputs": [
    {
     "data": {
      "text/html": [
       "<div>\n",
       "<style scoped>\n",
       "    .dataframe tbody tr th:only-of-type {\n",
       "        vertical-align: middle;\n",
       "    }\n",
       "\n",
       "    .dataframe tbody tr th {\n",
       "        vertical-align: top;\n",
       "    }\n",
       "\n",
       "    .dataframe thead th {\n",
       "        text-align: right;\n",
       "    }\n",
       "</style>\n",
       "<table border=\"1\" class=\"dataframe\">\n",
       "  <thead>\n",
       "    <tr style=\"text-align: right;\">\n",
       "      <th></th>\n",
       "      <th>salary</th>\n",
       "    </tr>\n",
       "    <tr>\n",
       "      <th>dept_name</th>\n",
       "      <th></th>\n",
       "    </tr>\n",
       "  </thead>\n",
       "  <tbody>\n",
       "    <tr>\n",
       "      <th>Accounting and Finance</th>\n",
       "      <td>52148.887324</td>\n",
       "    </tr>\n",
       "    <tr>\n",
       "      <th>Human Resources</th>\n",
       "      <td>44849.602740</td>\n",
       "    </tr>\n",
       "    <tr>\n",
       "      <th>Marketing</th>\n",
       "      <td>41540.041985</td>\n",
       "    </tr>\n",
       "    <tr>\n",
       "      <th>Sales</th>\n",
       "      <td>59192.053640</td>\n",
       "    </tr>\n",
       "    <tr>\n",
       "      <th>Supply Chain Operations</th>\n",
       "      <td>45183.788462</td>\n",
       "    </tr>\n",
       "    <tr>\n",
       "      <th>Technology</th>\n",
       "      <td>58975.979592</td>\n",
       "    </tr>\n",
       "  </tbody>\n",
       "</table>\n",
       "</div>"
      ],
      "text/plain": [
       "                               salary\n",
       "dept_name                            \n",
       "Accounting and Finance   52148.887324\n",
       "Human Resources          44849.602740\n",
       "Marketing                41540.041985\n",
       "Sales                    59192.053640\n",
       "Supply Chain Operations  45183.788462\n",
       "Technology               58975.979592"
      ]
     },
     "execution_count": 81,
     "metadata": {},
     "output_type": "execute_result"
    }
   ],
   "source": [
    "emp_dept_sal[['dept_name', 'salary']].groupby(by= 'dept_name').mean()"
   ]
  },
  {
   "cell_type": "code",
   "execution_count": null,
   "id": "e922be80-360d-432a-a077-4a23db38dc33",
   "metadata": {},
   "outputs": [],
   "source": []
  },
  {
   "cell_type": "code",
   "execution_count": 83,
   "id": "95b838c1-649b-402d-850a-b9dda5fd01e5",
   "metadata": {},
   "outputs": [
    {
     "data": {
      "text/html": [
       "<div>\n",
       "<style scoped>\n",
       "    .dataframe tbody tr th:only-of-type {\n",
       "        vertical-align: middle;\n",
       "    }\n",
       "\n",
       "    .dataframe tbody tr th {\n",
       "        vertical-align: top;\n",
       "    }\n",
       "\n",
       "    .dataframe thead th {\n",
       "        text-align: right;\n",
       "    }\n",
       "</style>\n",
       "<table border=\"1\" class=\"dataframe\">\n",
       "  <thead>\n",
       "    <tr style=\"text-align: right;\">\n",
       "      <th></th>\n",
       "      <th>salary</th>\n",
       "    </tr>\n",
       "    <tr>\n",
       "      <th>dept_name</th>\n",
       "      <th></th>\n",
       "    </tr>\n",
       "  </thead>\n",
       "  <tbody>\n",
       "    <tr>\n",
       "      <th>Accounting and Finance</th>\n",
       "      <td>52148.887324</td>\n",
       "    </tr>\n",
       "    <tr>\n",
       "      <th>Human Resources</th>\n",
       "      <td>44849.602740</td>\n",
       "    </tr>\n",
       "    <tr>\n",
       "      <th>Marketing</th>\n",
       "      <td>41540.041985</td>\n",
       "    </tr>\n",
       "    <tr>\n",
       "      <th>Sales</th>\n",
       "      <td>59192.053640</td>\n",
       "    </tr>\n",
       "    <tr>\n",
       "      <th>Supply Chain Operations</th>\n",
       "      <td>45183.788462</td>\n",
       "    </tr>\n",
       "    <tr>\n",
       "      <th>Technology</th>\n",
       "      <td>58975.979592</td>\n",
       "    </tr>\n",
       "  </tbody>\n",
       "</table>\n",
       "</div>"
      ],
      "text/plain": [
       "                               salary\n",
       "dept_name                            \n",
       "Accounting and Finance   52148.887324\n",
       "Human Resources          44849.602740\n",
       "Marketing                41540.041985\n",
       "Sales                    59192.053640\n",
       "Supply Chain Operations  45183.788462\n",
       "Technology               58975.979592"
      ]
     },
     "execution_count": 83,
     "metadata": {},
     "output_type": "execute_result"
    }
   ],
   "source": [
    "# via pivot_table\n",
    "emp_dept_sal.pivot_table(index= 'dept_name', values= 'salary', aggfunc='mean')"
   ]
  },
  {
   "cell_type": "code",
   "execution_count": null,
   "id": "cb3f63b1-f583-4f53-8853-a239db7270d7",
   "metadata": {},
   "outputs": [],
   "source": []
  },
  {
   "cell_type": "markdown",
   "id": "e8a51a75-48f4-4e0b-9bd8-4f000cdacaf5",
   "metadata": {},
   "source": [
    "#### What is the average salary by location?"
   ]
  },
  {
   "cell_type": "code",
   "execution_count": 84,
   "id": "2e30d40a-891c-473e-97de-e8df485e2f38",
   "metadata": {},
   "outputs": [
    {
     "data": {
      "text/html": [
       "<div>\n",
       "<style scoped>\n",
       "    .dataframe tbody tr th:only-of-type {\n",
       "        vertical-align: middle;\n",
       "    }\n",
       "\n",
       "    .dataframe tbody tr th {\n",
       "        vertical-align: top;\n",
       "    }\n",
       "\n",
       "    .dataframe thead th {\n",
       "        text-align: right;\n",
       "    }\n",
       "</style>\n",
       "<table border=\"1\" class=\"dataframe\">\n",
       "  <thead>\n",
       "    <tr style=\"text-align: right;\">\n",
       "      <th></th>\n",
       "      <th>salary</th>\n",
       "    </tr>\n",
       "    <tr>\n",
       "      <th>location</th>\n",
       "      <th></th>\n",
       "    </tr>\n",
       "  </thead>\n",
       "  <tbody>\n",
       "    <tr>\n",
       "      <th>Chicago</th>\n",
       "      <td>55383.208675</td>\n",
       "    </tr>\n",
       "    <tr>\n",
       "      <th>New York</th>\n",
       "      <td>42261.229851</td>\n",
       "    </tr>\n",
       "  </tbody>\n",
       "</table>\n",
       "</div>"
      ],
      "text/plain": [
       "                salary\n",
       "location              \n",
       "Chicago   55383.208675\n",
       "New York  42261.229851"
      ]
     },
     "execution_count": 84,
     "metadata": {},
     "output_type": "execute_result"
    }
   ],
   "source": [
    "emp_dept_sal[['location', 'salary']].groupby(by= 'location').mean()"
   ]
  },
  {
   "cell_type": "code",
   "execution_count": null,
   "id": "68ea6bb1-94b6-46da-9a2a-e54e56ca38ae",
   "metadata": {},
   "outputs": [],
   "source": []
  },
  {
   "cell_type": "markdown",
   "id": "d5750094-9b42-49e4-98b2-63442d34a078",
   "metadata": {},
   "source": [
    "#### How many people were hired each year in each of the last 10 years?"
   ]
  },
  {
   "cell_type": "code",
   "execution_count": 85,
   "id": "217a9655-90cc-4689-b9d8-10e14800838f",
   "metadata": {},
   "outputs": [],
   "source": [
    "emp_dept_sal['hire_year']= emp_dept_sal['hire_date'].dt.strftime('%Y')"
   ]
  },
  {
   "cell_type": "code",
   "execution_count": 86,
   "id": "f1ea7246-1a15-436e-bb25-8cc1384b30e9",
   "metadata": {},
   "outputs": [
    {
     "data": {
      "text/html": [
       "<div>\n",
       "<style scoped>\n",
       "    .dataframe tbody tr th:only-of-type {\n",
       "        vertical-align: middle;\n",
       "    }\n",
       "\n",
       "    .dataframe tbody tr th {\n",
       "        vertical-align: top;\n",
       "    }\n",
       "\n",
       "    .dataframe thead th {\n",
       "        text-align: right;\n",
       "    }\n",
       "</style>\n",
       "<table border=\"1\" class=\"dataframe\">\n",
       "  <thead>\n",
       "    <tr style=\"text-align: right;\">\n",
       "      <th></th>\n",
       "      <th>emp_no</th>\n",
       "      <th>dept_no</th>\n",
       "      <th>hire_date</th>\n",
       "      <th>leaving_date</th>\n",
       "      <th>dept_name</th>\n",
       "      <th>location</th>\n",
       "      <th>salary</th>\n",
       "      <th>hire_year</th>\n",
       "    </tr>\n",
       "  </thead>\n",
       "  <tbody>\n",
       "    <tr>\n",
       "      <th>0</th>\n",
       "      <td>10001</td>\n",
       "      <td>D5</td>\n",
       "      <td>2006-06-26</td>\n",
       "      <td>NaT</td>\n",
       "      <td>Technology</td>\n",
       "      <td>Chicago</td>\n",
       "      <td>30546</td>\n",
       "      <td>2006</td>\n",
       "    </tr>\n",
       "    <tr>\n",
       "      <th>1</th>\n",
       "      <td>10002</td>\n",
       "      <td>D6</td>\n",
       "      <td>2005-11-21</td>\n",
       "      <td>NaT</td>\n",
       "      <td>Sales</td>\n",
       "      <td>Chicago</td>\n",
       "      <td>36536</td>\n",
       "      <td>2005</td>\n",
       "    </tr>\n",
       "    <tr>\n",
       "      <th>2</th>\n",
       "      <td>10003</td>\n",
       "      <td>D4</td>\n",
       "      <td>2006-08-28</td>\n",
       "      <td>NaT</td>\n",
       "      <td>Marketing</td>\n",
       "      <td>New York</td>\n",
       "      <td>38323</td>\n",
       "      <td>2006</td>\n",
       "    </tr>\n",
       "    <tr>\n",
       "      <th>3</th>\n",
       "      <td>10004</td>\n",
       "      <td>D4</td>\n",
       "      <td>2006-12-01</td>\n",
       "      <td>NaT</td>\n",
       "      <td>Marketing</td>\n",
       "      <td>New York</td>\n",
       "      <td>31851</td>\n",
       "      <td>2006</td>\n",
       "    </tr>\n",
       "    <tr>\n",
       "      <th>4</th>\n",
       "      <td>10005</td>\n",
       "      <td>D3</td>\n",
       "      <td>2009-09-12</td>\n",
       "      <td>NaT</td>\n",
       "      <td>Supply Chain Operations</td>\n",
       "      <td>Chicago</td>\n",
       "      <td>53435</td>\n",
       "      <td>2009</td>\n",
       "    </tr>\n",
       "    <tr>\n",
       "      <th>...</th>\n",
       "      <td>...</td>\n",
       "      <td>...</td>\n",
       "      <td>...</td>\n",
       "      <td>...</td>\n",
       "      <td>...</td>\n",
       "      <td>...</td>\n",
       "      <td>...</td>\n",
       "      <td>...</td>\n",
       "    </tr>\n",
       "    <tr>\n",
       "      <th>1183</th>\n",
       "      <td>10905</td>\n",
       "      <td>D4</td>\n",
       "      <td>2005-02-28</td>\n",
       "      <td>2006-03-07</td>\n",
       "      <td>Marketing</td>\n",
       "      <td>New York</td>\n",
       "      <td>32735</td>\n",
       "      <td>2005</td>\n",
       "    </tr>\n",
       "    <tr>\n",
       "      <th>1184</th>\n",
       "      <td>10906</td>\n",
       "      <td>D2</td>\n",
       "      <td>2014-01-20</td>\n",
       "      <td>2021-04-25</td>\n",
       "      <td>Human Resources</td>\n",
       "      <td>New York</td>\n",
       "      <td>29095</td>\n",
       "      <td>2014</td>\n",
       "    </tr>\n",
       "    <tr>\n",
       "      <th>1185</th>\n",
       "      <td>10906</td>\n",
       "      <td>D2</td>\n",
       "      <td>2014-01-20</td>\n",
       "      <td>2021-04-25</td>\n",
       "      <td>Human Resources</td>\n",
       "      <td>New York</td>\n",
       "      <td>97330</td>\n",
       "      <td>2014</td>\n",
       "    </tr>\n",
       "    <tr>\n",
       "      <th>1186</th>\n",
       "      <td>10906</td>\n",
       "      <td>D6</td>\n",
       "      <td>2014-01-20</td>\n",
       "      <td>NaT</td>\n",
       "      <td>Sales</td>\n",
       "      <td>Chicago</td>\n",
       "      <td>29095</td>\n",
       "      <td>2014</td>\n",
       "    </tr>\n",
       "    <tr>\n",
       "      <th>1187</th>\n",
       "      <td>10906</td>\n",
       "      <td>D6</td>\n",
       "      <td>2014-01-20</td>\n",
       "      <td>NaT</td>\n",
       "      <td>Sales</td>\n",
       "      <td>Chicago</td>\n",
       "      <td>97330</td>\n",
       "      <td>2014</td>\n",
       "    </tr>\n",
       "  </tbody>\n",
       "</table>\n",
       "<p>1188 rows × 8 columns</p>\n",
       "</div>"
      ],
      "text/plain": [
       "     emp_no dept_no  hire_date leaving_date                dept_name  \\\n",
       "0     10001      D5 2006-06-26          NaT               Technology   \n",
       "1     10002      D6 2005-11-21          NaT                    Sales   \n",
       "2     10003      D4 2006-08-28          NaT                Marketing   \n",
       "3     10004      D4 2006-12-01          NaT                Marketing   \n",
       "4     10005      D3 2009-09-12          NaT  Supply Chain Operations   \n",
       "...     ...     ...        ...          ...                      ...   \n",
       "1183  10905      D4 2005-02-28   2006-03-07                Marketing   \n",
       "1184  10906      D2 2014-01-20   2021-04-25          Human Resources   \n",
       "1185  10906      D2 2014-01-20   2021-04-25          Human Resources   \n",
       "1186  10906      D6 2014-01-20          NaT                    Sales   \n",
       "1187  10906      D6 2014-01-20          NaT                    Sales   \n",
       "\n",
       "      location  salary hire_year  \n",
       "0      Chicago   30546      2006  \n",
       "1      Chicago   36536      2005  \n",
       "2     New York   38323      2006  \n",
       "3     New York   31851      2006  \n",
       "4      Chicago   53435      2009  \n",
       "...        ...     ...       ...  \n",
       "1183  New York   32735      2005  \n",
       "1184  New York   29095      2014  \n",
       "1185  New York   97330      2014  \n",
       "1186   Chicago   29095      2014  \n",
       "1187   Chicago   97330      2014  \n",
       "\n",
       "[1188 rows x 8 columns]"
      ]
     },
     "execution_count": 86,
     "metadata": {},
     "output_type": "execute_result"
    }
   ],
   "source": [
    "emp_dept_sal"
   ]
  },
  {
   "cell_type": "code",
   "execution_count": null,
   "id": "12db33b1-94e5-45f6-8250-1aaa4a6e0b6a",
   "metadata": {},
   "outputs": [],
   "source": []
  },
  {
   "cell_type": "code",
   "execution_count": 87,
   "id": "859b26d4-4c4d-4767-a33c-1e3c70e7638b",
   "metadata": {},
   "outputs": [
    {
     "data": {
      "text/html": [
       "<div>\n",
       "<style scoped>\n",
       "    .dataframe tbody tr th:only-of-type {\n",
       "        vertical-align: middle;\n",
       "    }\n",
       "\n",
       "    .dataframe tbody tr th {\n",
       "        vertical-align: top;\n",
       "    }\n",
       "\n",
       "    .dataframe thead th {\n",
       "        text-align: right;\n",
       "    }\n",
       "</style>\n",
       "<table border=\"1\" class=\"dataframe\">\n",
       "  <thead>\n",
       "    <tr style=\"text-align: right;\">\n",
       "      <th></th>\n",
       "      <th>emp_no</th>\n",
       "    </tr>\n",
       "    <tr>\n",
       "      <th>hire_year</th>\n",
       "      <th></th>\n",
       "    </tr>\n",
       "  </thead>\n",
       "  <tbody>\n",
       "    <tr>\n",
       "      <th>2010</th>\n",
       "      <td>146</td>\n",
       "    </tr>\n",
       "    <tr>\n",
       "      <th>2011</th>\n",
       "      <td>99</td>\n",
       "    </tr>\n",
       "    <tr>\n",
       "      <th>2012</th>\n",
       "      <td>81</td>\n",
       "    </tr>\n",
       "    <tr>\n",
       "      <th>2013</th>\n",
       "      <td>61</td>\n",
       "    </tr>\n",
       "    <tr>\n",
       "      <th>2014</th>\n",
       "      <td>69</td>\n",
       "    </tr>\n",
       "    <tr>\n",
       "      <th>2015</th>\n",
       "      <td>39</td>\n",
       "    </tr>\n",
       "    <tr>\n",
       "      <th>2016</th>\n",
       "      <td>40</td>\n",
       "    </tr>\n",
       "    <tr>\n",
       "      <th>2017</th>\n",
       "      <td>14</td>\n",
       "    </tr>\n",
       "    <tr>\n",
       "      <th>2018</th>\n",
       "      <td>8</td>\n",
       "    </tr>\n",
       "    <tr>\n",
       "      <th>2019</th>\n",
       "      <td>7</td>\n",
       "    </tr>\n",
       "  </tbody>\n",
       "</table>\n",
       "</div>"
      ],
      "text/plain": [
       "           emp_no\n",
       "hire_year        \n",
       "2010          146\n",
       "2011           99\n",
       "2012           81\n",
       "2013           61\n",
       "2014           69\n",
       "2015           39\n",
       "2016           40\n",
       "2017           14\n",
       "2018            8\n",
       "2019            7"
      ]
     },
     "execution_count": 87,
     "metadata": {},
     "output_type": "execute_result"
    }
   ],
   "source": [
    "emp_dept_sal[['hire_year', 'emp_no']].groupby(by= 'hire_year').count().tail(10)"
   ]
  },
  {
   "cell_type": "code",
   "execution_count": null,
   "id": "a01f2cc1-9d64-4c2b-bd85-45d942fe67e5",
   "metadata": {},
   "outputs": [],
   "source": []
  }
 ],
 "metadata": {
  "kernelspec": {
   "display_name": "Python 3 (ipykernel)",
   "language": "python",
   "name": "python3"
  },
  "language_info": {
   "codemirror_mode": {
    "name": "ipython",
    "version": 3
   },
   "file_extension": ".py",
   "mimetype": "text/x-python",
   "name": "python",
   "nbconvert_exporter": "python",
   "pygments_lexer": "ipython3",
   "version": "3.12.7"
  }
 },
 "nbformat": 4,
 "nbformat_minor": 5
}
