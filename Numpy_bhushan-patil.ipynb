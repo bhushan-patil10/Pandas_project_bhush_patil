{
 "cells": [
  {
   "cell_type": "markdown",
   "id": "7f82ef4a-5941-4f14-9ce3-5092dfe528db",
   "metadata": {},
   "source": [
    "# NumPy- Numerical Python\n",
    "\n",
    "Works primarily with numerical data that is sorted as a multi dimensional array as a structure.\n",
    "\n"
   ]
  },
  {
   "cell_type": "code",
   "execution_count": 6,
   "id": "a322e207-82c8-442b-81c5-495ab4845f6f",
   "metadata": {},
   "outputs": [],
   "source": [
    "#Import Numpy Library\n",
    "\n",
    "import numpy as np"
   ]
  },
  {
   "cell_type": "code",
   "execution_count": null,
   "id": "e1ec842b-c171-4b6e-aff7-4996694cef30",
   "metadata": {},
   "outputs": [],
   "source": []
  },
  {
   "cell_type": "code",
   "execution_count": 4,
   "id": "eb17a1f5-3726-47d2-9363-7bc1194d4a83",
   "metadata": {},
   "outputs": [],
   "source": [
    "list1= [1,2,3,4,5]"
   ]
  },
  {
   "cell_type": "code",
   "execution_count": 16,
   "id": "d41a4d1b-b042-4434-a0b8-cf42a62ee984",
   "metadata": {},
   "outputs": [
    {
     "data": {
      "text/plain": [
       "array([1, 2, 3, 4, 5])"
      ]
     },
     "execution_count": 16,
     "metadata": {},
     "output_type": "execute_result"
    }
   ],
   "source": [
    "np.array(list1)"
   ]
  },
  {
   "cell_type": "code",
   "execution_count": null,
   "id": "8c9f6b84-480f-4afb-b15f-eb5c5ddcb50d",
   "metadata": {},
   "outputs": [],
   "source": []
  },
  {
   "cell_type": "markdown",
   "id": "b3a68d5f-c6c3-4e58-9f21-4923a64e8251",
   "metadata": {},
   "source": [
    "Creating 2D array"
   ]
  },
  {
   "cell_type": "code",
   "execution_count": 13,
   "id": "84824a0f-e9f2-4eca-90ab-43e10eb9d7e2",
   "metadata": {},
   "outputs": [],
   "source": [
    "array2d= np.array([1,2,3], [4,5,6],[7,8,9])"
   ]
  },
  {
   "cell_type": "code",
   "execution_count": 17,
   "id": "d1f63c13-93e6-451d-a390-3f696102d805",
   "metadata": {},
   "outputs": [
    {
     "data": {
      "text/plain": [
       "array([[1, 2, 3],\n",
       "       [4, 5, 6],\n",
       "       [7, 8, 9]])"
      ]
     },
     "execution_count": 17,
     "metadata": {},
     "output_type": "execute_result"
    }
   ],
   "source": [
    "array2d"
   ]
  },
  {
   "cell_type": "code",
   "execution_count": null,
   "id": "4c97da12-ae1a-4cb8-af18-13547ecf9e2a",
   "metadata": {},
   "outputs": [],
   "source": []
  },
  {
   "cell_type": "code",
   "execution_count": 18,
   "id": "1ace33d3-85c6-441e-bbb8-0fdb141ea65b",
   "metadata": {},
   "outputs": [],
   "source": [
    "list1= [1,2,3,4]\n",
    "list2= [6,7,8,9]"
   ]
  },
  {
   "cell_type": "code",
   "execution_count": 19,
   "id": "03a0214f-19a7-4e0a-a64e-f5b26fb8d681",
   "metadata": {},
   "outputs": [],
   "source": [
    "array2d= np.array([list1, list2])"
   ]
  },
  {
   "cell_type": "code",
   "execution_count": 21,
   "id": "bd2e4e58-c4c4-4835-8ea1-daaca1226598",
   "metadata": {},
   "outputs": [
    {
     "data": {
      "text/plain": [
       "array([[ 1,  2,  3, 45],\n",
       "       [ 6,  7,  8,  9]])"
      ]
     },
     "execution_count": 21,
     "metadata": {},
     "output_type": "execute_result"
    }
   ],
   "source": [
    "array2d"
   ]
  },
  {
   "cell_type": "markdown",
   "id": "d41dbf8b-9ccb-46a9-a2f5-37a5414eb906",
   "metadata": {},
   "source": [
    "#### Creating a 5 row by 3 column array that contains only the value 7"
   ]
  },
  {
   "cell_type": "code",
   "execution_count": 2,
   "id": "a13091aa-f8e8-4af8-89e1-ffeac7dba48b",
   "metadata": {},
   "outputs": [
    {
     "data": {
      "text/plain": [
       "array([[7, 7, 7],\n",
       "       [7, 7, 7],\n",
       "       [7, 7, 7],\n",
       "       [7, 7, 7],\n",
       "       [7, 7, 7]])"
      ]
     },
     "execution_count": 2,
     "metadata": {},
     "output_type": "execute_result"
    }
   ],
   "source": [
    "np.full((5,3),7)"
   ]
  },
  {
   "cell_type": "code",
   "execution_count": null,
   "id": "d7e3e2fb-1775-4cb6-adb8-f2a83b29c134",
   "metadata": {},
   "outputs": [],
   "source": []
  },
  {
   "cell_type": "markdown",
   "id": "9dea6a90-f078-4afa-b1ea-1a3f670589a4",
   "metadata": {},
   "source": [
    "#### Creating a 3 row by 4 column array that contains evenly spaced values between 0-100"
   ]
  },
  {
   "cell_type": "code",
   "execution_count": 6,
   "id": "1f17cf66-7ada-4cea-b533-de64ae403d0e",
   "metadata": {},
   "outputs": [
    {
     "data": {
      "text/plain": [
       "array([[  0.        ,   9.09090909,  18.18181818,  27.27272727],\n",
       "       [ 36.36363636,  45.45454545,  54.54545455,  63.63636364],\n",
       "       [ 72.72727273,  81.81818182,  90.90909091, 100.        ]])"
      ]
     },
     "execution_count": 6,
     "metadata": {},
     "output_type": "execute_result"
    }
   ],
   "source": [
    "np.linspace(0,100,num=12).reshape(3,4)"
   ]
  },
  {
   "cell_type": "code",
   "execution_count": null,
   "id": "35851a2d-0dd9-4a06-a405-caa8b8cd6f53",
   "metadata": {},
   "outputs": [],
   "source": []
  },
  {
   "cell_type": "markdown",
   "id": "c1630e45-3675-4e3b-bb03-f78ea562ee6e",
   "metadata": {},
   "source": []
  },
  {
   "cell_type": "markdown",
   "id": "1354da89-7345-428c-bacd-a3261158d85b",
   "metadata": {},
   "source": [
    "#### Transpose- reverse the order of axes\n",
    "\n",
    "Transforming the rows into coluns in increment order"
   ]
  },
  {
   "cell_type": "code",
   "execution_count": 7,
   "id": "e1d50098-acb1-4be4-99ab-0ba024527ce7",
   "metadata": {},
   "outputs": [
    {
     "data": {
      "text/plain": [
       "array([[  0.        ,  36.36363636,  72.72727273],\n",
       "       [  9.09090909,  45.45454545,  81.81818182],\n",
       "       [ 18.18181818,  54.54545455,  90.90909091],\n",
       "       [ 27.27272727,  63.63636364, 100.        ]])"
      ]
     },
     "execution_count": 7,
     "metadata": {},
     "output_type": "execute_result"
    }
   ],
   "source": [
    "np.linspace(0,100,num=12).reshape(3,4).transpose()"
   ]
  },
  {
   "cell_type": "code",
   "execution_count": null,
   "id": "b3f9bae7-8399-488f-b7c4-73447312e9d1",
   "metadata": {},
   "outputs": [],
   "source": []
  },
  {
   "cell_type": "markdown",
   "id": "d6136212-f265-4ad0-a511-af2ca1eba714",
   "metadata": {},
   "source": [
    "#### Slicing -  [Start : Stp : Step]\n",
    "\n",
    "From the 2D array stored in the variable \"a\" below use slicing to return the below segment\n",
    "\n"
   ]
  },
  {
   "cell_type": "code",
   "execution_count": 11,
   "id": "7197354c-ce80-421e-8aa7-bdf366a16f46",
   "metadata": {},
   "outputs": [
    {
     "data": {
      "text/plain": [
       "array([[ 0.,  1.,  2.,  3.,  4.],\n",
       "       [ 5.,  6.,  7.,  8.,  9.],\n",
       "       [10., 11., 12., 13., 14.],\n",
       "       [15., 16., 17., 18., 19.],\n",
       "       [20., 21., 22., 23., 24.]])"
      ]
     },
     "execution_count": 11,
     "metadata": {},
     "output_type": "execute_result"
    }
   ],
   "source": [
    "# Run this cell first\n",
    "a = np.linspace(0,24,num=25).reshape(5,5)\n",
    "a"
   ]
  },
  {
   "cell_type": "raw",
   "id": "e6f17d9c-b45f-4e98-8c48-da9ea8d2f24f",
   "metadata": {},
   "source": [
    "Return this segment:\n",
    "([[11., 12., 13.],\n",
    "  [16., 17., 18.]])"
   ]
  },
  {
   "cell_type": "code",
   "execution_count": 13,
   "id": "35b8379d-1774-40ba-89ad-9a616073f075",
   "metadata": {},
   "outputs": [
    {
     "data": {
      "text/plain": [
       "array([[11., 12., 13.],\n",
       "       [16., 17., 18.]])"
      ]
     },
     "execution_count": 13,
     "metadata": {},
     "output_type": "execute_result"
    }
   ],
   "source": [
    "# here is then scling:\n",
    "\n",
    "a[2:4,1:4]"
   ]
  },
  {
   "cell_type": "code",
   "execution_count": null,
   "id": "e15fb43a-aac3-4b1a-b11f-379a412f35be",
   "metadata": {},
   "outputs": [],
   "source": []
  },
  {
   "cell_type": "markdown",
   "id": "610f13c5-4ac6-4d88-bd1b-d67b996c1bbc",
   "metadata": {},
   "source": [
    "Reverse the list"
   ]
  },
  {
   "cell_type": "code",
   "execution_count": 23,
   "id": "f358335e-6390-4dca-be7e-cc011e8a12fd",
   "metadata": {},
   "outputs": [],
   "source": [
    "arr_1d= [2,3,4,5,6]"
   ]
  },
  {
   "cell_type": "code",
   "execution_count": 25,
   "id": "a10edb92-cea0-42ce-bf51-c31ce76fec12",
   "metadata": {},
   "outputs": [
    {
     "data": {
      "text/plain": [
       "[6, 5, 4, 3, 2]"
      ]
     },
     "execution_count": 25,
     "metadata": {},
     "output_type": "execute_result"
    }
   ],
   "source": [
    "arr_1d[::-1]"
   ]
  },
  {
   "cell_type": "code",
   "execution_count": null,
   "id": "4cafb1d9-6248-4a32-80a2-f9e80bd92bde",
   "metadata": {},
   "outputs": [],
   "source": []
  },
  {
   "cell_type": "markdown",
   "id": "8dd26a88-2fdb-4d0c-b476-039819b7c2eb",
   "metadata": {},
   "source": [
    "Returning only elements that are greater than 12 from the same array \"a\" "
   ]
  },
  {
   "cell_type": "code",
   "execution_count": 15,
   "id": "5015d668-cd49-4d1f-8c09-0417a69b386b",
   "metadata": {},
   "outputs": [
    {
     "data": {
      "text/plain": [
       "array([13., 14., 15., 16., 17., 18., 19., 20., 21., 22., 23., 24.])"
      ]
     },
     "execution_count": 15,
     "metadata": {},
     "output_type": "execute_result"
    }
   ],
   "source": [
    "a[a>12]"
   ]
  },
  {
   "cell_type": "code",
   "execution_count": null,
   "id": "68a14597-e6ff-437e-9ffe-0016a5cce12a",
   "metadata": {},
   "outputs": [],
   "source": []
  },
  {
   "cell_type": "code",
   "execution_count": 29,
   "id": "9459323c-97fa-4850-9e00-6680fc5e2768",
   "metadata": {},
   "outputs": [],
   "source": [
    "# Return 50 from array_2d\n",
    "\n",
    "array_2d = np.array([[2,5,6,7,60,47,3],[11,50,6,9,62,42,30],[16,53,86,69,2,2,50]])"
   ]
  },
  {
   "cell_type": "markdown",
   "id": "f5164133-7fb7-4606-96f1-62b874d623ae",
   "metadata": {},
   "source": [
    "array_2d"
   ]
  },
  {
   "cell_type": "code",
   "execution_count": 31,
   "id": "352ed93e-cf99-4228-a140-973f0d06db51",
   "metadata": {},
   "outputs": [
    {
     "data": {
      "text/plain": [
       "50"
      ]
     },
     "execution_count": 31,
     "metadata": {},
     "output_type": "execute_result"
    }
   ],
   "source": [
    "array_2d[2,6]"
   ]
  },
  {
   "cell_type": "code",
   "execution_count": null,
   "id": "cda9079c-46e4-4d65-9bbf-d2708f78c78d",
   "metadata": {},
   "outputs": [],
   "source": []
  },
  {
   "cell_type": "markdown",
   "id": "3bdac0f2-6c91-4898-890f-773fc18be6d4",
   "metadata": {},
   "source": [
    "#### Boolean Array Indexing"
   ]
  },
  {
   "cell_type": "code",
   "execution_count": 37,
   "id": "bb7304c9-6c8f-4251-a768-385e7efdd005",
   "metadata": {},
   "outputs": [],
   "source": [
    "arr_1d= np.array([2,4,5,6,7])"
   ]
  },
  {
   "cell_type": "code",
   "execution_count": 38,
   "id": "e58318cb-2916-4521-beab-aea8265e3bc5",
   "metadata": {},
   "outputs": [
    {
     "data": {
      "text/plain": [
       "array([False,  True,  True,  True,  True])"
      ]
     },
     "execution_count": 38,
     "metadata": {},
     "output_type": "execute_result"
    }
   ],
   "source": [
    "arr_1d > 3     # return True when element > 3 and False if not"
   ]
  },
  {
   "cell_type": "code",
   "execution_count": null,
   "id": "68bb9fcd-49a3-4dbb-b63e-a1c35b494d62",
   "metadata": {},
   "outputs": [],
   "source": []
  },
  {
   "cell_type": "code",
   "execution_count": 41,
   "id": "b92b6e5a-890d-420c-8816-7fecc279a6eb",
   "metadata": {},
   "outputs": [
    {
     "data": {
      "text/plain": [
       "2"
      ]
     },
     "execution_count": 41,
     "metadata": {},
     "output_type": "execute_result"
    }
   ],
   "source": [
    "# Return the first element\n",
    "\n",
    "arr_1d[0]    "
   ]
  },
  {
   "cell_type": "code",
   "execution_count": null,
   "id": "15981f0f-e4aa-45e5-a647-b764500f58c8",
   "metadata": {},
   "outputs": [],
   "source": []
  },
  {
   "cell_type": "markdown",
   "id": "40008f58-8be8-4a34-93e8-a96eed59e982",
   "metadata": {},
   "source": [
    "#### Concatenate"
   ]
  },
  {
   "cell_type": "code",
   "execution_count": 43,
   "id": "dc8913f9-bc98-434c-a49d-a262b2100fca",
   "metadata": {},
   "outputs": [],
   "source": [
    "arr_1= np.array([[1,2,3],[4,5,6]])\n",
    "arr_2= np.array([[7,8,9],[10,11,12],[13,14,15]])"
   ]
  },
  {
   "cell_type": "code",
   "execution_count": 45,
   "id": "4ef0f830-7497-440e-81c6-150c311cf584",
   "metadata": {},
   "outputs": [
    {
     "data": {
      "text/plain": [
       "array([[ 1,  2,  3],\n",
       "       [ 4,  5,  6],\n",
       "       [ 7,  8,  9],\n",
       "       [10, 11, 12],\n",
       "       [13, 14, 15]])"
      ]
     },
     "execution_count": 45,
     "metadata": {},
     "output_type": "execute_result"
    }
   ],
   "source": [
    "np.concatenate((arr_1, arr_2), axis= 0)"
   ]
  },
  {
   "cell_type": "code",
   "execution_count": null,
   "id": "fed0ae37-acc7-4a23-b6f2-0377a1508b4d",
   "metadata": {},
   "outputs": [],
   "source": []
  },
  {
   "cell_type": "markdown",
   "id": "a9d212a4-3e30-45e0-b1e4-d916e99aac62",
   "metadata": {},
   "source": [
    "#### Numpy Sort\n",
    "\n",
    "Sort colums and rows on asscending order\n"
   ]
  },
  {
   "cell_type": "code",
   "execution_count": 49,
   "id": "87dc5299-e64d-442c-a81f-adf40b657037",
   "metadata": {},
   "outputs": [],
   "source": [
    "arr= np.array([[7,8,9],[12, 34, 54],[13,20,15]])"
   ]
  },
  {
   "cell_type": "code",
   "execution_count": 50,
   "id": "e941e500-87a2-4460-a683-7e81299c8d10",
   "metadata": {},
   "outputs": [
    {
     "data": {
      "text/plain": [
       "array([[ 7,  8,  9],\n",
       "       [12, 20, 15],\n",
       "       [13, 34, 54]])"
      ]
     },
     "execution_count": 50,
     "metadata": {},
     "output_type": "execute_result"
    }
   ],
   "source": [
    "np.sort(arr, axis= 0)"
   ]
  },
  {
   "cell_type": "markdown",
   "id": "8a5847cc-8639-48d4-be85-31355b99b021",
   "metadata": {},
   "source": [
    "#### Arrange"
   ]
  },
  {
   "cell_type": "code",
   "execution_count": 67,
   "id": "0ef1ee5a-fd23-4002-8666-63e00e3681cf",
   "metadata": {},
   "outputs": [
    {
     "data": {
      "text/plain": [
       "array([ 0,  2,  4,  6,  8, 10])"
      ]
     },
     "execution_count": 67,
     "metadata": {},
     "output_type": "execute_result"
    }
   ],
   "source": [
    "np.arange(0,12,2)"
   ]
  },
  {
   "cell_type": "code",
   "execution_count": null,
   "id": "a3c6ed22-cb07-4431-8455-0c795098b774",
   "metadata": {},
   "outputs": [],
   "source": []
  },
  {
   "cell_type": "markdown",
   "id": "bf1ab8e6-0d10-4023-8b43-1643e23b4fa6",
   "metadata": {},
   "source": [
    "#### NumPy Random\n",
    "\n",
    "Created an array with randpm elements"
   ]
  },
  {
   "cell_type": "code",
   "execution_count": 71,
   "id": "21ac0ee5-4486-468e-9abe-a5dd468bc529",
   "metadata": {},
   "outputs": [
    {
     "data": {
      "text/plain": [
       "array([[0.93411248, 0.73676219, 0.49132164, 0.27120719, 0.77620409],\n",
       "       [0.7149849 , 0.34253362, 0.7256017 , 0.65309301, 0.46788354],\n",
       "       [0.95968851, 0.33577215, 0.70204124, 0.02593509, 0.84938975],\n",
       "       [0.49239251, 0.61286766, 0.47948697, 0.60133116, 0.21647482],\n",
       "       [0.67346859, 0.6493044 , 0.60279765, 0.71231588, 0.51798568]])"
      ]
     },
     "execution_count": 71,
     "metadata": {},
     "output_type": "execute_result"
    }
   ],
   "source": [
    "np.random.rand(5,5) "
   ]
  },
  {
   "cell_type": "code",
   "execution_count": null,
   "id": "8184ff4d-7212-4153-8d12-3876351685bf",
   "metadata": {},
   "outputs": [],
   "source": []
  },
  {
   "cell_type": "markdown",
   "id": "5dca3858-c676-4135-9a14-83de28acaa61",
   "metadata": {},
   "source": [
    "#### Arithmatic and Math function"
   ]
  },
  {
   "cell_type": "code",
   "execution_count": 74,
   "id": "42588798-4ccb-48a3-8b2a-81a4bae5885a",
   "metadata": {},
   "outputs": [],
   "source": [
    "arr_1= np.array([1,2,3])"
   ]
  },
  {
   "cell_type": "code",
   "execution_count": 77,
   "id": "23b99d3f-03b4-4afa-93fc-2719a88744e5",
   "metadata": {},
   "outputs": [
    {
     "data": {
      "text/plain": [
       "array([2, 4, 6])"
      ]
     },
     "execution_count": 77,
     "metadata": {},
     "output_type": "execute_result"
    }
   ],
   "source": [
    "(arr_1+arr_1)"
   ]
  },
  {
   "cell_type": "code",
   "execution_count": null,
   "id": "a4b18bd0-96c8-4161-86a0-72a9a3ee3ebf",
   "metadata": {},
   "outputs": [],
   "source": []
  },
  {
   "cell_type": "code",
   "execution_count": 86,
   "id": "0d90c40d-e14a-4a50-a00f-efc95c625cb5",
   "metadata": {},
   "outputs": [],
   "source": [
    "arr_1= np.array([[1,2,3], [4,5,6]])\n",
    "arr_2= np.array([[7,8,9],[10,11,12]])"
   ]
  },
  {
   "cell_type": "markdown",
   "id": "86606ef1-27d0-473b-8413-3bf37d4cc310",
   "metadata": {},
   "source": [
    "(arr_1+arr_2)"
   ]
  },
  {
   "cell_type": "code",
   "execution_count": null,
   "id": "04b59363-95bc-4218-a93a-1f145bf29366",
   "metadata": {},
   "outputs": [],
   "source": []
  },
  {
   "cell_type": "code",
   "execution_count": 89,
   "id": "f34b938c-e9ac-4499-9d9f-b6e07e1ba809",
   "metadata": {},
   "outputs": [
    {
     "data": {
      "text/plain": [
       "array([[-6, -6, -6],\n",
       "       [-6, -6, -6]])"
      ]
     },
     "execution_count": 89,
     "metadata": {},
     "output_type": "execute_result"
    }
   ],
   "source": [
    "(arr_1 - arr_2)"
   ]
  },
  {
   "cell_type": "code",
   "execution_count": null,
   "id": "930e8df3-16df-4b5a-95a6-c73c0d23b562",
   "metadata": {},
   "outputs": [],
   "source": []
  },
  {
   "cell_type": "code",
   "execution_count": 92,
   "id": "c9ec7c0a-9531-4fa6-9232-e4c4130d2da0",
   "metadata": {},
   "outputs": [
    {
     "data": {
      "text/plain": [
       "array([[ 7, 16, 27],\n",
       "       [40, 55, 72]])"
      ]
     },
     "execution_count": 92,
     "metadata": {},
     "output_type": "execute_result"
    }
   ],
   "source": [
    "(arr_1 * arr_2)"
   ]
  },
  {
   "cell_type": "code",
   "execution_count": null,
   "id": "293e03b1-7135-40ca-beb8-b826cccef589",
   "metadata": {},
   "outputs": [],
   "source": []
  },
  {
   "cell_type": "code",
   "execution_count": 94,
   "id": "5cea05f8-ca6b-4bf3-a469-1cfeff681aa8",
   "metadata": {},
   "outputs": [
    {
     "data": {
      "text/plain": [
       "array([[0.14285714, 0.25      , 0.33333333],\n",
       "       [0.4       , 0.45454545, 0.5       ]])"
      ]
     },
     "execution_count": 94,
     "metadata": {},
     "output_type": "execute_result"
    }
   ],
   "source": [
    "(arr_1 / arr_2)"
   ]
  },
  {
   "cell_type": "code",
   "execution_count": null,
   "id": "564cddcd-528f-409a-a69d-222e7cd1ff33",
   "metadata": {},
   "outputs": [],
   "source": []
  },
  {
   "cell_type": "markdown",
   "id": "39e228ef-a11b-4207-b9e1-442c5efa38b6",
   "metadata": {},
   "source": [
    "#### SUM"
   ]
  },
  {
   "cell_type": "code",
   "execution_count": 95,
   "id": "4312a0d5-4f02-444b-b3b3-516cdd109060",
   "metadata": {},
   "outputs": [],
   "source": [
    "arr_1= np.array([[1,2,3], [4,5,6]])"
   ]
  },
  {
   "cell_type": "code",
   "execution_count": 98,
   "id": "716577e6-6037-440b-8a9b-12d62d972a02",
   "metadata": {},
   "outputs": [
    {
     "data": {
      "text/plain": [
       "21"
      ]
     },
     "execution_count": 98,
     "metadata": {},
     "output_type": "execute_result"
    }
   ],
   "source": [
    "np.sum(arr_1  # Total sum of all elements"
   ]
  },
  {
   "cell_type": "code",
   "execution_count": 99,
   "id": "51322fd4-b310-416c-b33e-5598cedda715",
   "metadata": {},
   "outputs": [
    {
     "data": {
      "text/plain": [
       "array([5, 7, 9])"
      ]
     },
     "execution_count": 99,
     "metadata": {},
     "output_type": "execute_result"
    }
   ],
   "source": [
    "np.sum(arr_1, axis= 0)   # Sum of each column"
   ]
  },
  {
   "cell_type": "markdown",
   "id": "25d8ae6f-0f4c-4d66-a83d-82d1078d6b78",
   "metadata": {},
   "source": [
    "#### Mean"
   ]
  },
  {
   "cell_type": "code",
   "execution_count": 102,
   "id": "f511caa6-5acf-4a4d-ae5e-c0c9e7514e3f",
   "metadata": {},
   "outputs": [
    {
     "data": {
      "text/plain": [
       "3.5"
      ]
     },
     "execution_count": 102,
     "metadata": {},
     "output_type": "execute_result"
    }
   ],
   "source": [
    "np.mean(arr_1)"
   ]
  },
  {
   "cell_type": "markdown",
   "id": "6924b725-6ca0-4585-87ff-12e13ce42745",
   "metadata": {},
   "source": [
    "#### Max"
   ]
  },
  {
   "cell_type": "code",
   "execution_count": 105,
   "id": "00163f1f-7ea5-41fd-bba6-27e2475aef4b",
   "metadata": {},
   "outputs": [
    {
     "data": {
      "text/plain": [
       "6"
      ]
     },
     "execution_count": 105,
     "metadata": {},
     "output_type": "execute_result"
    }
   ],
   "source": [
    "np.amax(arr_1)"
   ]
  },
  {
   "cell_type": "markdown",
   "id": "17c28c8c-2320-4cbf-8094-18ab8804d66c",
   "metadata": {},
   "source": [
    "#### Min"
   ]
  },
  {
   "cell_type": "code",
   "execution_count": 106,
   "id": "b1b9db26-543d-4a9a-a480-f32aa7c01a86",
   "metadata": {},
   "outputs": [
    {
     "data": {
      "text/plain": [
       "1"
      ]
     },
     "execution_count": 106,
     "metadata": {},
     "output_type": "execute_result"
    }
   ],
   "source": [
    "np.amin(arr_1)"
   ]
  },
  {
   "cell_type": "markdown",
   "id": "81ea38c9-dc35-46d7-ad31-0404b84b16e6",
   "metadata": {},
   "source": [
    "#### Importing files ( csv, xlxs)"
   ]
  },
  {
   "cell_type": "markdown",
   "id": "3bea9eb3-859b-450e-9201-5e0e9d75220a",
   "metadata": {},
   "source": [
    "Load the file 'tfl-daily-cycle-hires-2018.csv' which i have uploaded in Git Hub repository and store it in a variable called tfl_20"
   ]
  },
  {
   "cell_type": "code",
   "execution_count": 23,
   "id": "04532216-978f-4224-9c5c-d71ef3b9f8f7",
   "metadata": {},
   "outputs": [],
   "source": [
    "# Load the data here\n",
    "\n",
    "import numpy as np\n",
    "\n",
    "tfl_20= np.loadtxt('tfl-daily-cycle-hires-2018.csv',usecols=1, skiprows=1, delimiter=',')\n",
    "\n",
    "\n",
    "# This line of code reads the second column- usecols=1 from 'tfl-daily-cycle-hires-2018.csv', skipping the header- skiprows=1 row and using a comma as the separator- delimiter=','."
   ]
  },
  {
   "cell_type": "code",
   "execution_count": 24,
   "id": "5e886986-527b-456d-be5e-cd0e6aebc386",
   "metadata": {},
   "outputs": [
    {
     "data": {
      "text/plain": [
       "array([10235., 14394., 20265., 17543., 21759., 13920., 12259., 23374.,\n",
       "       24683., 26787., 25222., 24696., 17512., 15070., 19161., 26921.,\n",
       "       26934., 26471., 25799.,  9398.,  5859., 26337., 26003., 20206.,\n",
       "       28189., 26430., 14472., 17512., 26371., 28002., 24117., 25525.,\n",
       "       25331.,  8975., 13833., 23898., 25349., 25388., 25791., 21037.,\n",
       "        9956., 14621., 24719., 20931., 18866., 25264., 25411., 23169.,\n",
       "       18624., 19879., 25055., 26434., 26179., 23067., 16522., 14037.,\n",
       "       19204., 18741., 10619.,  8744.,  8234.,  7924., 10853., 24818.,\n",
       "       26301., 22044., 25967., 18912., 18717., 16259., 19996., 28069.,\n",
       "       28769., 25318., 28308.,  8106.,  6624., 20488., 24582., 27719.,\n",
       "       27228., 26894., 18804., 19723., 29486., 22603., 15800., 20237.,\n",
       "        6362., 11032., 13504.,  7998., 22708., 23173., 30508., 30690.,\n",
       "       25909.,  9759., 16324., 26751., 24883., 26473., 27363., 34235.,\n",
       "       21324., 30730., 33025., 40544., 43585., 45048., 42328., 38395.,\n",
       "       35940., 33430., 33426., 34995., 21387., 17368., 15822., 17112.,\n",
       "       34598., 23727., 35477., 36447., 39070., 40606., 45435., 41579.,\n",
       "       41130., 38054., 38386., 16717., 29190., 38095., 42106., 34627.,\n",
       "       37549., 37305., 36895., 39964., 38800., 41242., 38229., 31970.,\n",
       "       35108., 33573., 33192., 36742., 24312., 34884., 37677., 37293.,\n",
       "       38293., 39871., 35255., 37048., 41592., 37841., 39576., 36466.,\n",
       "       38562., 41027., 38487., 40569., 37871., 39862., 31329., 26769.,\n",
       "       39768., 41862., 41134., 41533., 41765., 38772., 38982., 44565.,\n",
       "       46084., 44788., 43075., 43081., 38522., 37334., 42556., 44655.,\n",
       "       43511., 44052., 43143., 36308., 38196., 41893., 43535., 44003.,\n",
       "       41826., 38879., 37733., 37299., 41828., 43392., 43183., 42857.,\n",
       "       40297., 38763., 37683., 42509., 44195., 44870., 43343., 34606.,\n",
       "       41145., 18974., 38274., 42260., 43691., 43292., 40908., 39318.,\n",
       "       40220., 41963., 40954., 42676., 20574., 29253., 33214., 23113.,\n",
       "       36510., 40735., 40930., 28400., 36869., 31691., 32209., 37839.,\n",
       "       40293., 38401., 34492., 27839., 25490.,  8177., 25059., 34791.,\n",
       "       27070., 37001., 35209., 35326., 35048., 36068., 36581., 36059.,\n",
       "       34778., 35451., 28318., 30598., 36965., 37221., 33403., 38708.,\n",
       "       35332., 33465., 32055., 39190., 38360., 37027., 35317., 32942.,\n",
       "       12376., 13192., 34563., 36730., 39281., 39835., 35817., 32941.,\n",
       "       25254., 34411., 37515., 38434., 36930., 39569., 10043., 25713.,\n",
       "       35156., 39132., 39398., 35875., 35747., 36393., 10292., 28044.,\n",
       "       37920., 30482., 35206., 34707., 32588., 32484., 34430., 34889.,\n",
       "       35656., 34640., 27636., 18756., 13675., 29409., 30269., 32891.,\n",
       "       23475., 31083., 25142., 21829., 31421., 33038., 27656., 32933.,\n",
       "       27403., 14732., 18455., 26077., 32062., 33339., 33043., 28581.,\n",
       "       20518.,  9585., 18246., 15237., 25022., 26112., 25881., 15813.,\n",
       "       14529., 27509., 22128., 22846., 25714., 28615., 14046., 15990.,\n",
       "       25801., 28982., 23816., 16600., 18608., 16515., 15441., 27880.,\n",
       "       28904., 27494., 25997., 24076.,  8076., 12123., 24973., 20180.,\n",
       "       22425., 23694., 19169., 13310.,  6748., 10043., 35267., 10841.,\n",
       "       12310., 13794., 13100., 12922., 16305.])"
      ]
     },
     "execution_count": 24,
     "metadata": {},
     "output_type": "execute_result"
    }
   ],
   "source": [
    "tfl_20"
   ]
  },
  {
   "cell_type": "markdown",
   "id": "902338fc-7519-4ad4-83c0-4eb14cf2c1a8",
   "metadata": {},
   "source": [
    "Check the shape of the array"
   ]
  },
  {
   "cell_type": "code",
   "execution_count": 25,
   "id": "66936f47-e5f4-41ae-af7a-2b12b207f2ba",
   "metadata": {},
   "outputs": [
    {
     "data": {
      "text/plain": [
       "(365,)"
      ]
     },
     "execution_count": 25,
     "metadata": {},
     "output_type": "execute_result"
    }
   ],
   "source": [
    "tfl_20.shape"
   ]
  },
  {
   "cell_type": "markdown",
   "id": "e3906174-c83d-42c8-943a-8fa451e6366a",
   "metadata": {},
   "source": [
    "Change the array to be a 2D array of shape (365,2)\n"
   ]
  },
  {
   "cell_type": "code",
   "execution_count": 28,
   "id": "49b781ec-56d1-4459-bcad-f61de12f1c82",
   "metadata": {},
   "outputs": [],
   "source": [
    "# Check the shape here\n",
    "tfl_20= tfl_20.reshape(365,2)"
   ]
  },
  {
   "cell_type": "code",
   "execution_count": 62,
   "id": "e01d9375-b77a-49ca-930c-4c4b68eaeec4",
   "metadata": {},
   "outputs": [
    {
     "data": {
      "text/plain": [
       "array([[10235.],\n",
       "       [14394.],\n",
       "       [20265.],\n",
       "       [17543.],\n",
       "       [21759.],\n",
       "       [13920.],\n",
       "       [12259.],\n",
       "       [23374.],\n",
       "       [24683.],\n",
       "       [26787.],\n",
       "       [25222.],\n",
       "       [24696.],\n",
       "       [17512.],\n",
       "       [15070.],\n",
       "       [19161.],\n",
       "       [26921.],\n",
       "       [26934.],\n",
       "       [26471.],\n",
       "       [25799.],\n",
       "       [ 9398.],\n",
       "       [ 5859.],\n",
       "       [26337.],\n",
       "       [26003.],\n",
       "       [20206.],\n",
       "       [28189.],\n",
       "       [26430.],\n",
       "       [14472.],\n",
       "       [17512.],\n",
       "       [26371.],\n",
       "       [28002.],\n",
       "       [24117.],\n",
       "       [25525.],\n",
       "       [25331.],\n",
       "       [ 8975.],\n",
       "       [13833.],\n",
       "       [23898.],\n",
       "       [25349.],\n",
       "       [25388.],\n",
       "       [25791.],\n",
       "       [21037.],\n",
       "       [ 9956.],\n",
       "       [14621.],\n",
       "       [24719.],\n",
       "       [20931.],\n",
       "       [18866.],\n",
       "       [25264.],\n",
       "       [25411.],\n",
       "       [23169.],\n",
       "       [18624.],\n",
       "       [19879.],\n",
       "       [25055.],\n",
       "       [26434.],\n",
       "       [26179.],\n",
       "       [23067.],\n",
       "       [16522.],\n",
       "       [14037.],\n",
       "       [19204.],\n",
       "       [18741.],\n",
       "       [10619.],\n",
       "       [ 8744.],\n",
       "       [ 8234.],\n",
       "       [ 7924.],\n",
       "       [10853.],\n",
       "       [24818.],\n",
       "       [26301.],\n",
       "       [22044.],\n",
       "       [25967.],\n",
       "       [18912.],\n",
       "       [18717.],\n",
       "       [16259.],\n",
       "       [19996.],\n",
       "       [28069.],\n",
       "       [28769.],\n",
       "       [25318.],\n",
       "       [28308.],\n",
       "       [ 8106.],\n",
       "       [ 6624.],\n",
       "       [20488.],\n",
       "       [24582.],\n",
       "       [27719.],\n",
       "       [27228.],\n",
       "       [26894.],\n",
       "       [18804.],\n",
       "       [19723.],\n",
       "       [29486.],\n",
       "       [22603.],\n",
       "       [15800.],\n",
       "       [20237.],\n",
       "       [ 6362.],\n",
       "       [11032.],\n",
       "       [13504.],\n",
       "       [ 7998.],\n",
       "       [22708.],\n",
       "       [23173.],\n",
       "       [30508.],\n",
       "       [30690.],\n",
       "       [25909.],\n",
       "       [ 9759.],\n",
       "       [16324.],\n",
       "       [26751.],\n",
       "       [24883.],\n",
       "       [26473.],\n",
       "       [27363.],\n",
       "       [34235.],\n",
       "       [21324.],\n",
       "       [30730.],\n",
       "       [33025.],\n",
       "       [40544.],\n",
       "       [43585.],\n",
       "       [45048.],\n",
       "       [42328.],\n",
       "       [38395.],\n",
       "       [35940.],\n",
       "       [33430.],\n",
       "       [33426.],\n",
       "       [34995.],\n",
       "       [21387.],\n",
       "       [17368.],\n",
       "       [15822.],\n",
       "       [17112.],\n",
       "       [34598.],\n",
       "       [23727.],\n",
       "       [35477.],\n",
       "       [36447.],\n",
       "       [39070.],\n",
       "       [40606.],\n",
       "       [45435.],\n",
       "       [41579.],\n",
       "       [41130.],\n",
       "       [38054.],\n",
       "       [38386.],\n",
       "       [16717.],\n",
       "       [29190.],\n",
       "       [38095.],\n",
       "       [42106.],\n",
       "       [34627.],\n",
       "       [37549.],\n",
       "       [37305.],\n",
       "       [36895.],\n",
       "       [39964.],\n",
       "       [38800.],\n",
       "       [41242.],\n",
       "       [38229.],\n",
       "       [31970.],\n",
       "       [35108.],\n",
       "       [33573.],\n",
       "       [33192.],\n",
       "       [36742.],\n",
       "       [24312.],\n",
       "       [34884.],\n",
       "       [37677.],\n",
       "       [37293.],\n",
       "       [38293.],\n",
       "       [39871.],\n",
       "       [35255.],\n",
       "       [37048.],\n",
       "       [41592.],\n",
       "       [37841.],\n",
       "       [39576.],\n",
       "       [36466.],\n",
       "       [38562.],\n",
       "       [41027.],\n",
       "       [38487.],\n",
       "       [40569.],\n",
       "       [37871.],\n",
       "       [39862.],\n",
       "       [31329.],\n",
       "       [26769.],\n",
       "       [39768.],\n",
       "       [41862.],\n",
       "       [41134.],\n",
       "       [41533.],\n",
       "       [41765.],\n",
       "       [38772.],\n",
       "       [38982.],\n",
       "       [44565.],\n",
       "       [46084.],\n",
       "       [44788.],\n",
       "       [43075.],\n",
       "       [43081.],\n",
       "       [38522.],\n",
       "       [37334.],\n",
       "       [42556.],\n",
       "       [44655.],\n",
       "       [43511.],\n",
       "       [44052.],\n",
       "       [43143.],\n",
       "       [36308.],\n",
       "       [38196.],\n",
       "       [41893.],\n",
       "       [43535.],\n",
       "       [44003.],\n",
       "       [41826.],\n",
       "       [38879.],\n",
       "       [37733.],\n",
       "       [37299.],\n",
       "       [41828.],\n",
       "       [43392.],\n",
       "       [43183.],\n",
       "       [42857.],\n",
       "       [40297.],\n",
       "       [38763.],\n",
       "       [37683.],\n",
       "       [42509.],\n",
       "       [44195.],\n",
       "       [44870.],\n",
       "       [43343.],\n",
       "       [34606.],\n",
       "       [41145.],\n",
       "       [18974.],\n",
       "       [38274.],\n",
       "       [42260.],\n",
       "       [43691.],\n",
       "       [43292.],\n",
       "       [40908.],\n",
       "       [39318.],\n",
       "       [40220.],\n",
       "       [41963.],\n",
       "       [40954.],\n",
       "       [42676.],\n",
       "       [20574.],\n",
       "       [29253.],\n",
       "       [33214.],\n",
       "       [23113.],\n",
       "       [36510.],\n",
       "       [40735.],\n",
       "       [40930.],\n",
       "       [28400.],\n",
       "       [36869.],\n",
       "       [31691.],\n",
       "       [32209.],\n",
       "       [37839.],\n",
       "       [40293.],\n",
       "       [38401.],\n",
       "       [34492.],\n",
       "       [27839.],\n",
       "       [25490.],\n",
       "       [ 8177.],\n",
       "       [25059.],\n",
       "       [34791.],\n",
       "       [27070.],\n",
       "       [37001.],\n",
       "       [35209.],\n",
       "       [35326.],\n",
       "       [35048.],\n",
       "       [36068.],\n",
       "       [36581.],\n",
       "       [36059.],\n",
       "       [34778.],\n",
       "       [35451.],\n",
       "       [28318.],\n",
       "       [30598.],\n",
       "       [36965.],\n",
       "       [37221.],\n",
       "       [33403.],\n",
       "       [38708.],\n",
       "       [35332.],\n",
       "       [33465.],\n",
       "       [32055.],\n",
       "       [39190.],\n",
       "       [38360.],\n",
       "       [37027.],\n",
       "       [35317.],\n",
       "       [32942.],\n",
       "       [12376.],\n",
       "       [13192.],\n",
       "       [34563.],\n",
       "       [36730.],\n",
       "       [39281.],\n",
       "       [39835.],\n",
       "       [35817.],\n",
       "       [32941.],\n",
       "       [25254.],\n",
       "       [34411.],\n",
       "       [37515.],\n",
       "       [38434.],\n",
       "       [36930.],\n",
       "       [39569.],\n",
       "       [10043.],\n",
       "       [25713.],\n",
       "       [35156.],\n",
       "       [39132.],\n",
       "       [39398.],\n",
       "       [35875.],\n",
       "       [35747.],\n",
       "       [36393.],\n",
       "       [10292.],\n",
       "       [28044.],\n",
       "       [37920.],\n",
       "       [30482.],\n",
       "       [35206.],\n",
       "       [34707.],\n",
       "       [32588.],\n",
       "       [32484.],\n",
       "       [34430.],\n",
       "       [34889.],\n",
       "       [35656.],\n",
       "       [34640.],\n",
       "       [27636.],\n",
       "       [18756.],\n",
       "       [13675.],\n",
       "       [29409.],\n",
       "       [30269.],\n",
       "       [32891.],\n",
       "       [23475.],\n",
       "       [31083.],\n",
       "       [25142.],\n",
       "       [21829.],\n",
       "       [31421.],\n",
       "       [33038.],\n",
       "       [27656.],\n",
       "       [32933.],\n",
       "       [27403.],\n",
       "       [14732.],\n",
       "       [18455.],\n",
       "       [26077.],\n",
       "       [32062.],\n",
       "       [33339.],\n",
       "       [33043.],\n",
       "       [28581.],\n",
       "       [20518.],\n",
       "       [ 9585.],\n",
       "       [18246.],\n",
       "       [15237.],\n",
       "       [25022.],\n",
       "       [26112.],\n",
       "       [25881.],\n",
       "       [15813.],\n",
       "       [14529.],\n",
       "       [27509.],\n",
       "       [22128.],\n",
       "       [22846.],\n",
       "       [25714.],\n",
       "       [28615.],\n",
       "       [14046.],\n",
       "       [15990.],\n",
       "       [25801.],\n",
       "       [28982.],\n",
       "       [23816.],\n",
       "       [16600.],\n",
       "       [18608.],\n",
       "       [16515.],\n",
       "       [15441.],\n",
       "       [27880.],\n",
       "       [28904.],\n",
       "       [27494.],\n",
       "       [25997.],\n",
       "       [24076.],\n",
       "       [ 8076.],\n",
       "       [12123.],\n",
       "       [24973.],\n",
       "       [20180.],\n",
       "       [22425.],\n",
       "       [23694.],\n",
       "       [19169.],\n",
       "       [13310.],\n",
       "       [ 6748.],\n",
       "       [10043.],\n",
       "       [35267.],\n",
       "       [10841.],\n",
       "       [12310.],\n",
       "       [13794.],\n",
       "       [13100.],\n",
       "       [12922.],\n",
       "       [16305.]])"
      ]
     },
     "execution_count": 62,
     "metadata": {},
     "output_type": "execute_result"
    }
   ],
   "source": [
    "tfl_20"
   ]
  },
  {
   "cell_type": "code",
   "execution_count": null,
   "id": "01d2d082-8457-4523-90e2-42a132542c1c",
   "metadata": {},
   "outputs": [],
   "source": []
  },
  {
   "cell_type": "code",
   "execution_count": null,
   "id": "77af3871-d7d3-46cb-9011-90ffa5ea3a0e",
   "metadata": {},
   "outputs": [],
   "source": [
    "Load another file 'tfl-daily-cycle-hires-2019.csv' which i have uploaded in Git Hub repository and store it in a variable called tfl_21"
   ]
  },
  {
   "cell_type": "code",
   "execution_count": 32,
   "id": "c3c9ae7e-ec96-4730-ae28-9acde351e5ba",
   "metadata": {},
   "outputs": [],
   "source": [
    "# Load the data here\n",
    "tfl_21=np.loadtxt('tfl-daily-cycle-hires-2019.csv',usecols=1, skiprows=1, delimiter=',')"
   ]
  },
  {
   "cell_type": "code",
   "execution_count": 33,
   "id": "f5cbc5d2-e51b-4994-a498-a9370bfa1c81",
   "metadata": {},
   "outputs": [
    {
     "data": {
      "text/plain": [
       "array([14148., 19746., 21552., 20863., 13907., 14262., 25668., 27757.,\n",
       "       26568., 26022., 26378., 16750., 16304., 28097., 29413., 24500.,\n",
       "       26053., 25525., 16653., 16803., 26567., 23083., 25406., 24357.,\n",
       "       24198., 15062., 10596., 25859., 24732., 25482., 23487., 12841.,\n",
       "       14136., 14637., 18254., 25682., 26197., 26703., 17468., 17439.,\n",
       "       10800., 27439., 28786., 29145., 29270., 28838., 20560., 24383.,\n",
       "       23815., 28927., 28971., 30474., 29703., 29242., 26092., 31480.,\n",
       "       34996., 35420., 27219., 28255., 22795.,  9641., 26532., 29701.,\n",
       "       25449., 24884., 23635., 19951., 12111., 27725., 21718., 26816.,\n",
       "       23699., 26123., 14594., 14390., 27824., 27683., 30485., 31307.,\n",
       "       28229., 25897., 27408., 31215., 31955., 31263., 32315., 35321.,\n",
       "       33026., 20325., 31834., 24529., 27059., 25493., 27536., 20423.,\n",
       "       16897., 26527., 25534., 31699., 30961., 27403., 19856., 20896.,\n",
       "       30837., 31842., 37203., 36574., 36505., 38712., 36686., 35435.,\n",
       "       34948., 34593., 34494., 32006., 18379., 22631., 33748., 38908.,\n",
       "       37952., 32563., 28182., 19806., 22896., 22472., 34646., 20276.,\n",
       "       28404., 34078., 25475., 31836., 37537., 39647., 39054., 38408.,\n",
       "       29846., 28138., 26727., 36072., 41251., 40312., 41314., 37280.,\n",
       "       33151., 26802., 28309., 34443., 31203., 39450., 39017., 40800.,\n",
       "       33865., 37306., 31948., 38033., 38141., 25122., 26656., 29311.,\n",
       "       13358., 34285., 25449., 26617., 33837., 28235., 26102., 38894.,\n",
       "       29854., 33190., 38345., 38656., 36858., 30851., 38617., 38200.,\n",
       "       39620., 41692., 39986., 38616., 33990., 39257., 42658., 43924.,\n",
       "       44668., 42466., 34018., 29889., 39670., 41447., 42343., 41916.,\n",
       "       41305., 36204., 27858., 39489., 43693., 41959., 34240., 25620.,\n",
       "       31351., 33251., 40842., 44457., 42296., 39323., 31517., 19950.,\n",
       "       29319., 41472., 27449., 38299., 39898., 38278., 39388., 34341.,\n",
       "       34041., 39369., 37776., 40667., 30719., 25956., 29952., 29570.,\n",
       "       39534., 19154., 38018., 23388., 29360., 24122., 33048., 39255.,\n",
       "       38251., 38056., 35995., 30776., 31355., 33150., 37597., 36576.,\n",
       "       38337., 37147., 30847., 29486., 35280., 37229., 33933., 36722.,\n",
       "       31798., 28038., 27969., 29440., 36814., 35787., 38252., 37354.,\n",
       "       34966., 33698., 32747., 39025., 38751., 38271., 37699., 36479.,\n",
       "       24154., 30941., 21563., 32427., 28976., 29557., 24960., 15478.,\n",
       "       27787., 24631., 33923., 32707., 32314., 26578., 21690., 28418.,\n",
       "       32894., 34874., 35641., 25222., 10047., 16040., 22519., 34372.,\n",
       "       30763., 30259., 29675., 25400., 20545., 24215., 33916., 31786.,\n",
       "       23489., 28988., 14397., 22155., 30208., 31225., 32157., 30951.,\n",
       "       25128., 14557., 18356., 29198., 31016., 30745., 30244., 26194.,\n",
       "       12350., 18491., 28080., 27391., 29661., 28649., 21318., 18553.,\n",
       "       18082., 28521., 28760., 29437., 27064., 24865., 14904., 15599.,\n",
       "       25722., 26982., 26575., 26030., 28463., 18176., 14242., 27306.,\n",
       "       29645., 29458., 28547., 21917., 19235., 15139., 27089., 24198.,\n",
       "       27414., 19740., 23189., 14862., 14077., 24344., 19747., 24745.,\n",
       "       21679., 14451.,  9370., 10407., 15878., 10478., 34674.,  5649.,\n",
       "       11718., 11414., 12256., 16166., 13043.])"
      ]
     },
     "execution_count": 33,
     "metadata": {},
     "output_type": "execute_result"
    }
   ],
   "source": [
    "tfl_21"
   ]
  },
  {
   "cell_type": "code",
   "execution_count": 43,
   "id": "c2493a68-94f5-4527-a5ca-43934a1cc5b5",
   "metadata": {},
   "outputs": [],
   "source": [
    "# change the shape\n",
    "tfl_21= tfl_21.reshape(365,2)"
   ]
  },
  {
   "cell_type": "code",
   "execution_count": 49,
   "id": "f87714c3-c5e4-439e-8f20-90fbe34e9c3c",
   "metadata": {},
   "outputs": [
    {
     "data": {
      "text/plain": [
       "array([[14148.],\n",
       "       [19746.],\n",
       "       [21552.],\n",
       "       [20863.],\n",
       "       [13907.],\n",
       "       [14262.],\n",
       "       [25668.],\n",
       "       [27757.],\n",
       "       [26568.],\n",
       "       [26022.],\n",
       "       [26378.],\n",
       "       [16750.],\n",
       "       [16304.],\n",
       "       [28097.],\n",
       "       [29413.],\n",
       "       [24500.],\n",
       "       [26053.],\n",
       "       [25525.],\n",
       "       [16653.],\n",
       "       [16803.],\n",
       "       [26567.],\n",
       "       [23083.],\n",
       "       [25406.],\n",
       "       [24357.],\n",
       "       [24198.],\n",
       "       [15062.],\n",
       "       [10596.],\n",
       "       [25859.],\n",
       "       [24732.],\n",
       "       [25482.],\n",
       "       [23487.],\n",
       "       [12841.],\n",
       "       [14136.],\n",
       "       [14637.],\n",
       "       [18254.],\n",
       "       [25682.],\n",
       "       [26197.],\n",
       "       [26703.],\n",
       "       [17468.],\n",
       "       [17439.],\n",
       "       [10800.],\n",
       "       [27439.],\n",
       "       [28786.],\n",
       "       [29145.],\n",
       "       [29270.],\n",
       "       [28838.],\n",
       "       [20560.],\n",
       "       [24383.],\n",
       "       [23815.],\n",
       "       [28927.],\n",
       "       [28971.],\n",
       "       [30474.],\n",
       "       [29703.],\n",
       "       [29242.],\n",
       "       [26092.],\n",
       "       [31480.],\n",
       "       [34996.],\n",
       "       [35420.],\n",
       "       [27219.],\n",
       "       [28255.],\n",
       "       [22795.],\n",
       "       [ 9641.],\n",
       "       [26532.],\n",
       "       [29701.],\n",
       "       [25449.],\n",
       "       [24884.],\n",
       "       [23635.],\n",
       "       [19951.],\n",
       "       [12111.],\n",
       "       [27725.],\n",
       "       [21718.],\n",
       "       [26816.],\n",
       "       [23699.],\n",
       "       [26123.],\n",
       "       [14594.],\n",
       "       [14390.],\n",
       "       [27824.],\n",
       "       [27683.],\n",
       "       [30485.],\n",
       "       [31307.],\n",
       "       [28229.],\n",
       "       [25897.],\n",
       "       [27408.],\n",
       "       [31215.],\n",
       "       [31955.],\n",
       "       [31263.],\n",
       "       [32315.],\n",
       "       [35321.],\n",
       "       [33026.],\n",
       "       [20325.],\n",
       "       [31834.],\n",
       "       [24529.],\n",
       "       [27059.],\n",
       "       [25493.],\n",
       "       [27536.],\n",
       "       [20423.],\n",
       "       [16897.],\n",
       "       [26527.],\n",
       "       [25534.],\n",
       "       [31699.],\n",
       "       [30961.],\n",
       "       [27403.],\n",
       "       [19856.],\n",
       "       [20896.],\n",
       "       [30837.],\n",
       "       [31842.],\n",
       "       [37203.],\n",
       "       [36574.],\n",
       "       [36505.],\n",
       "       [38712.],\n",
       "       [36686.],\n",
       "       [35435.],\n",
       "       [34948.],\n",
       "       [34593.],\n",
       "       [34494.],\n",
       "       [32006.],\n",
       "       [18379.],\n",
       "       [22631.],\n",
       "       [33748.],\n",
       "       [38908.],\n",
       "       [37952.],\n",
       "       [32563.],\n",
       "       [28182.],\n",
       "       [19806.],\n",
       "       [22896.],\n",
       "       [22472.],\n",
       "       [34646.],\n",
       "       [20276.],\n",
       "       [28404.],\n",
       "       [34078.],\n",
       "       [25475.],\n",
       "       [31836.],\n",
       "       [37537.],\n",
       "       [39647.],\n",
       "       [39054.],\n",
       "       [38408.],\n",
       "       [29846.],\n",
       "       [28138.],\n",
       "       [26727.],\n",
       "       [36072.],\n",
       "       [41251.],\n",
       "       [40312.],\n",
       "       [41314.],\n",
       "       [37280.],\n",
       "       [33151.],\n",
       "       [26802.],\n",
       "       [28309.],\n",
       "       [34443.],\n",
       "       [31203.],\n",
       "       [39450.],\n",
       "       [39017.],\n",
       "       [40800.],\n",
       "       [33865.],\n",
       "       [37306.],\n",
       "       [31948.],\n",
       "       [38033.],\n",
       "       [38141.],\n",
       "       [25122.],\n",
       "       [26656.],\n",
       "       [29311.],\n",
       "       [13358.],\n",
       "       [34285.],\n",
       "       [25449.],\n",
       "       [26617.],\n",
       "       [33837.],\n",
       "       [28235.],\n",
       "       [26102.],\n",
       "       [38894.],\n",
       "       [29854.],\n",
       "       [33190.],\n",
       "       [38345.],\n",
       "       [38656.],\n",
       "       [36858.],\n",
       "       [30851.],\n",
       "       [38617.],\n",
       "       [38200.],\n",
       "       [39620.],\n",
       "       [41692.],\n",
       "       [39986.],\n",
       "       [38616.],\n",
       "       [33990.],\n",
       "       [39257.],\n",
       "       [42658.],\n",
       "       [43924.],\n",
       "       [44668.],\n",
       "       [42466.],\n",
       "       [34018.],\n",
       "       [29889.],\n",
       "       [39670.],\n",
       "       [41447.],\n",
       "       [42343.],\n",
       "       [41916.],\n",
       "       [41305.],\n",
       "       [36204.],\n",
       "       [27858.],\n",
       "       [39489.],\n",
       "       [43693.],\n",
       "       [41959.],\n",
       "       [34240.],\n",
       "       [25620.],\n",
       "       [31351.],\n",
       "       [33251.],\n",
       "       [40842.],\n",
       "       [44457.],\n",
       "       [42296.],\n",
       "       [39323.],\n",
       "       [31517.],\n",
       "       [19950.],\n",
       "       [29319.],\n",
       "       [41472.],\n",
       "       [27449.],\n",
       "       [38299.],\n",
       "       [39898.],\n",
       "       [38278.],\n",
       "       [39388.],\n",
       "       [34341.],\n",
       "       [34041.],\n",
       "       [39369.],\n",
       "       [37776.],\n",
       "       [40667.],\n",
       "       [30719.],\n",
       "       [25956.],\n",
       "       [29952.],\n",
       "       [29570.],\n",
       "       [39534.],\n",
       "       [19154.],\n",
       "       [38018.],\n",
       "       [23388.],\n",
       "       [29360.],\n",
       "       [24122.],\n",
       "       [33048.],\n",
       "       [39255.],\n",
       "       [38251.],\n",
       "       [38056.],\n",
       "       [35995.],\n",
       "       [30776.],\n",
       "       [31355.],\n",
       "       [33150.],\n",
       "       [37597.],\n",
       "       [36576.],\n",
       "       [38337.],\n",
       "       [37147.],\n",
       "       [30847.],\n",
       "       [29486.],\n",
       "       [35280.],\n",
       "       [37229.],\n",
       "       [33933.],\n",
       "       [36722.],\n",
       "       [31798.],\n",
       "       [28038.],\n",
       "       [27969.],\n",
       "       [29440.],\n",
       "       [36814.],\n",
       "       [35787.],\n",
       "       [38252.],\n",
       "       [37354.],\n",
       "       [34966.],\n",
       "       [33698.],\n",
       "       [32747.],\n",
       "       [39025.],\n",
       "       [38751.],\n",
       "       [38271.],\n",
       "       [37699.],\n",
       "       [36479.],\n",
       "       [24154.],\n",
       "       [30941.],\n",
       "       [21563.],\n",
       "       [32427.],\n",
       "       [28976.],\n",
       "       [29557.],\n",
       "       [24960.],\n",
       "       [15478.],\n",
       "       [27787.],\n",
       "       [24631.],\n",
       "       [33923.],\n",
       "       [32707.],\n",
       "       [32314.],\n",
       "       [26578.],\n",
       "       [21690.],\n",
       "       [28418.],\n",
       "       [32894.],\n",
       "       [34874.],\n",
       "       [35641.],\n",
       "       [25222.],\n",
       "       [10047.],\n",
       "       [16040.],\n",
       "       [22519.],\n",
       "       [34372.],\n",
       "       [30763.],\n",
       "       [30259.],\n",
       "       [29675.],\n",
       "       [25400.],\n",
       "       [20545.],\n",
       "       [24215.],\n",
       "       [33916.],\n",
       "       [31786.],\n",
       "       [23489.],\n",
       "       [28988.],\n",
       "       [14397.],\n",
       "       [22155.],\n",
       "       [30208.],\n",
       "       [31225.],\n",
       "       [32157.],\n",
       "       [30951.],\n",
       "       [25128.],\n",
       "       [14557.],\n",
       "       [18356.],\n",
       "       [29198.],\n",
       "       [31016.],\n",
       "       [30745.],\n",
       "       [30244.],\n",
       "       [26194.],\n",
       "       [12350.],\n",
       "       [18491.],\n",
       "       [28080.],\n",
       "       [27391.],\n",
       "       [29661.],\n",
       "       [28649.],\n",
       "       [21318.],\n",
       "       [18553.],\n",
       "       [18082.],\n",
       "       [28521.],\n",
       "       [28760.],\n",
       "       [29437.],\n",
       "       [27064.],\n",
       "       [24865.],\n",
       "       [14904.],\n",
       "       [15599.],\n",
       "       [25722.],\n",
       "       [26982.],\n",
       "       [26575.],\n",
       "       [26030.],\n",
       "       [28463.],\n",
       "       [18176.],\n",
       "       [14242.],\n",
       "       [27306.],\n",
       "       [29645.],\n",
       "       [29458.],\n",
       "       [28547.],\n",
       "       [21917.],\n",
       "       [19235.],\n",
       "       [15139.],\n",
       "       [27089.],\n",
       "       [24198.],\n",
       "       [27414.],\n",
       "       [19740.],\n",
       "       [23189.],\n",
       "       [14862.],\n",
       "       [14077.],\n",
       "       [24344.],\n",
       "       [19747.],\n",
       "       [24745.],\n",
       "       [21679.],\n",
       "       [14451.],\n",
       "       [ 9370.],\n",
       "       [10407.],\n",
       "       [15878.],\n",
       "       [10478.],\n",
       "       [34674.],\n",
       "       [ 5649.],\n",
       "       [11718.],\n",
       "       [11414.],\n",
       "       [12256.],\n",
       "       [16166.],\n",
       "       [13043.]])"
      ]
     },
     "execution_count": 49,
     "metadata": {},
     "output_type": "execute_result"
    }
   ],
   "source": [
    "tfl_21"
   ]
  },
  {
   "cell_type": "markdown",
   "id": "451c2d78-6c11-4d33-b169-956ad77c8eab",
   "metadata": {},
   "source": [
    "#### Concatenate"
   ]
  },
  {
   "cell_type": "markdown",
   "id": "2eaaea9e-baac-4037-8aa0-57e87793d5c0",
   "metadata": {},
   "source": [
    "Create a new array called tfl_concat that contains the two arrays tfl_20 and tfl_21 concatenated together on the 1 axis. "
   ]
  },
  {
   "cell_type": "code",
   "execution_count": 51,
   "id": "8a1fef51-6ac3-4b61-b175-d8d530453bfa",
   "metadata": {},
   "outputs": [],
   "source": [
    "# Concatenate the arrays here\n",
    "tfl_2021=np.concatenate([tfl_20,tfl_21], axis=1)"
   ]
  },
  {
   "cell_type": "code",
   "execution_count": 59,
   "id": "0c307261-9fa3-4743-948d-0f66ceff3663",
   "metadata": {},
   "outputs": [
    {
     "data": {
      "text/plain": [
       "array([[10235.],\n",
       "       [14394.],\n",
       "       [20265.],\n",
       "       [17543.],\n",
       "       [21759.],\n",
       "       [13920.],\n",
       "       [12259.],\n",
       "       [23374.],\n",
       "       [24683.],\n",
       "       [26787.],\n",
       "       [25222.],\n",
       "       [24696.],\n",
       "       [17512.],\n",
       "       [15070.],\n",
       "       [19161.],\n",
       "       [26921.],\n",
       "       [26934.],\n",
       "       [26471.],\n",
       "       [25799.],\n",
       "       [ 9398.],\n",
       "       [ 5859.],\n",
       "       [26337.],\n",
       "       [26003.],\n",
       "       [20206.],\n",
       "       [28189.],\n",
       "       [26430.],\n",
       "       [14472.],\n",
       "       [17512.],\n",
       "       [26371.],\n",
       "       [28002.],\n",
       "       [24117.],\n",
       "       [25525.],\n",
       "       [25331.],\n",
       "       [ 8975.],\n",
       "       [13833.],\n",
       "       [23898.],\n",
       "       [25349.],\n",
       "       [25388.],\n",
       "       [25791.],\n",
       "       [21037.],\n",
       "       [ 9956.],\n",
       "       [14621.],\n",
       "       [24719.],\n",
       "       [20931.],\n",
       "       [18866.],\n",
       "       [25264.],\n",
       "       [25411.],\n",
       "       [23169.],\n",
       "       [18624.],\n",
       "       [19879.],\n",
       "       [25055.],\n",
       "       [26434.],\n",
       "       [26179.],\n",
       "       [23067.],\n",
       "       [16522.],\n",
       "       [14037.],\n",
       "       [19204.],\n",
       "       [18741.],\n",
       "       [10619.],\n",
       "       [ 8744.],\n",
       "       [ 8234.],\n",
       "       [ 7924.],\n",
       "       [10853.],\n",
       "       [24818.],\n",
       "       [26301.],\n",
       "       [22044.],\n",
       "       [25967.],\n",
       "       [18912.],\n",
       "       [18717.],\n",
       "       [16259.],\n",
       "       [19996.],\n",
       "       [28069.],\n",
       "       [28769.],\n",
       "       [25318.],\n",
       "       [28308.],\n",
       "       [ 8106.],\n",
       "       [ 6624.],\n",
       "       [20488.],\n",
       "       [24582.],\n",
       "       [27719.],\n",
       "       [27228.],\n",
       "       [26894.],\n",
       "       [18804.],\n",
       "       [19723.],\n",
       "       [29486.],\n",
       "       [22603.],\n",
       "       [15800.],\n",
       "       [20237.],\n",
       "       [ 6362.],\n",
       "       [11032.],\n",
       "       [13504.],\n",
       "       [ 7998.],\n",
       "       [22708.],\n",
       "       [23173.],\n",
       "       [30508.],\n",
       "       [30690.],\n",
       "       [25909.],\n",
       "       [ 9759.],\n",
       "       [16324.],\n",
       "       [26751.],\n",
       "       [24883.],\n",
       "       [26473.],\n",
       "       [27363.],\n",
       "       [34235.],\n",
       "       [21324.],\n",
       "       [30730.],\n",
       "       [33025.],\n",
       "       [40544.],\n",
       "       [43585.],\n",
       "       [45048.],\n",
       "       [42328.],\n",
       "       [38395.],\n",
       "       [35940.],\n",
       "       [33430.],\n",
       "       [33426.],\n",
       "       [34995.],\n",
       "       [21387.],\n",
       "       [17368.],\n",
       "       [15822.],\n",
       "       [17112.],\n",
       "       [34598.],\n",
       "       [23727.],\n",
       "       [35477.],\n",
       "       [36447.],\n",
       "       [39070.],\n",
       "       [40606.],\n",
       "       [45435.],\n",
       "       [41579.],\n",
       "       [41130.],\n",
       "       [38054.],\n",
       "       [38386.],\n",
       "       [16717.],\n",
       "       [29190.],\n",
       "       [38095.],\n",
       "       [42106.],\n",
       "       [34627.],\n",
       "       [37549.],\n",
       "       [37305.],\n",
       "       [36895.],\n",
       "       [39964.],\n",
       "       [38800.],\n",
       "       [41242.],\n",
       "       [38229.],\n",
       "       [31970.],\n",
       "       [35108.],\n",
       "       [33573.],\n",
       "       [33192.],\n",
       "       [36742.],\n",
       "       [24312.],\n",
       "       [34884.],\n",
       "       [37677.],\n",
       "       [37293.],\n",
       "       [38293.],\n",
       "       [39871.],\n",
       "       [35255.],\n",
       "       [37048.],\n",
       "       [41592.],\n",
       "       [37841.],\n",
       "       [39576.],\n",
       "       [36466.],\n",
       "       [38562.],\n",
       "       [41027.],\n",
       "       [38487.],\n",
       "       [40569.],\n",
       "       [37871.],\n",
       "       [39862.],\n",
       "       [31329.],\n",
       "       [26769.],\n",
       "       [39768.],\n",
       "       [41862.],\n",
       "       [41134.],\n",
       "       [41533.],\n",
       "       [41765.],\n",
       "       [38772.],\n",
       "       [38982.],\n",
       "       [44565.],\n",
       "       [46084.],\n",
       "       [44788.],\n",
       "       [43075.],\n",
       "       [43081.],\n",
       "       [38522.],\n",
       "       [37334.],\n",
       "       [42556.],\n",
       "       [44655.],\n",
       "       [43511.],\n",
       "       [44052.],\n",
       "       [43143.],\n",
       "       [36308.],\n",
       "       [38196.],\n",
       "       [41893.],\n",
       "       [43535.],\n",
       "       [44003.],\n",
       "       [41826.],\n",
       "       [38879.],\n",
       "       [37733.],\n",
       "       [37299.],\n",
       "       [41828.],\n",
       "       [43392.],\n",
       "       [43183.],\n",
       "       [42857.],\n",
       "       [40297.],\n",
       "       [38763.],\n",
       "       [37683.],\n",
       "       [42509.],\n",
       "       [44195.],\n",
       "       [44870.],\n",
       "       [43343.],\n",
       "       [34606.],\n",
       "       [41145.],\n",
       "       [18974.],\n",
       "       [38274.],\n",
       "       [42260.],\n",
       "       [43691.],\n",
       "       [43292.],\n",
       "       [40908.],\n",
       "       [39318.],\n",
       "       [40220.],\n",
       "       [41963.],\n",
       "       [40954.],\n",
       "       [42676.],\n",
       "       [20574.],\n",
       "       [29253.],\n",
       "       [33214.],\n",
       "       [23113.],\n",
       "       [36510.],\n",
       "       [40735.],\n",
       "       [40930.],\n",
       "       [28400.],\n",
       "       [36869.],\n",
       "       [31691.],\n",
       "       [32209.],\n",
       "       [37839.],\n",
       "       [40293.],\n",
       "       [38401.],\n",
       "       [34492.],\n",
       "       [27839.],\n",
       "       [25490.],\n",
       "       [ 8177.],\n",
       "       [25059.],\n",
       "       [34791.],\n",
       "       [27070.],\n",
       "       [37001.],\n",
       "       [35209.],\n",
       "       [35326.],\n",
       "       [35048.],\n",
       "       [36068.],\n",
       "       [36581.],\n",
       "       [36059.],\n",
       "       [34778.],\n",
       "       [35451.],\n",
       "       [28318.],\n",
       "       [30598.],\n",
       "       [36965.],\n",
       "       [37221.],\n",
       "       [33403.],\n",
       "       [38708.],\n",
       "       [35332.],\n",
       "       [33465.],\n",
       "       [32055.],\n",
       "       [39190.],\n",
       "       [38360.],\n",
       "       [37027.],\n",
       "       [35317.],\n",
       "       [32942.],\n",
       "       [12376.],\n",
       "       [13192.],\n",
       "       [34563.],\n",
       "       [36730.],\n",
       "       [39281.],\n",
       "       [39835.],\n",
       "       [35817.],\n",
       "       [32941.],\n",
       "       [25254.],\n",
       "       [34411.],\n",
       "       [37515.],\n",
       "       [38434.],\n",
       "       [36930.],\n",
       "       [39569.],\n",
       "       [10043.],\n",
       "       [25713.],\n",
       "       [35156.],\n",
       "       [39132.],\n",
       "       [39398.],\n",
       "       [35875.],\n",
       "       [35747.],\n",
       "       [36393.],\n",
       "       [10292.],\n",
       "       [28044.],\n",
       "       [37920.],\n",
       "       [30482.],\n",
       "       [35206.],\n",
       "       [34707.],\n",
       "       [32588.],\n",
       "       [32484.],\n",
       "       [34430.],\n",
       "       [34889.],\n",
       "       [35656.],\n",
       "       [34640.],\n",
       "       [27636.],\n",
       "       [18756.],\n",
       "       [13675.],\n",
       "       [29409.],\n",
       "       [30269.],\n",
       "       [32891.],\n",
       "       [23475.],\n",
       "       [31083.],\n",
       "       [25142.],\n",
       "       [21829.],\n",
       "       [31421.],\n",
       "       [33038.],\n",
       "       [27656.],\n",
       "       [32933.],\n",
       "       [27403.],\n",
       "       [14732.],\n",
       "       [18455.],\n",
       "       [26077.],\n",
       "       [32062.],\n",
       "       [33339.],\n",
       "       [33043.],\n",
       "       [28581.],\n",
       "       [20518.],\n",
       "       [ 9585.],\n",
       "       [18246.],\n",
       "       [15237.],\n",
       "       [25022.],\n",
       "       [26112.],\n",
       "       [25881.],\n",
       "       [15813.],\n",
       "       [14529.],\n",
       "       [27509.],\n",
       "       [22128.],\n",
       "       [22846.],\n",
       "       [25714.],\n",
       "       [28615.],\n",
       "       [14046.],\n",
       "       [15990.],\n",
       "       [25801.],\n",
       "       [28982.],\n",
       "       [23816.],\n",
       "       [16600.],\n",
       "       [18608.],\n",
       "       [16515.],\n",
       "       [15441.],\n",
       "       [27880.],\n",
       "       [28904.],\n",
       "       [27494.],\n",
       "       [25997.],\n",
       "       [24076.],\n",
       "       [ 8076.],\n",
       "       [12123.],\n",
       "       [24973.],\n",
       "       [20180.],\n",
       "       [22425.],\n",
       "       [23694.],\n",
       "       [19169.],\n",
       "       [13310.],\n",
       "       [ 6748.],\n",
       "       [10043.],\n",
       "       [35267.],\n",
       "       [10841.],\n",
       "       [12310.],\n",
       "       [13794.],\n",
       "       [13100.],\n",
       "       [12922.],\n",
       "       [16305.],\n",
       "       [14148.],\n",
       "       [19746.],\n",
       "       [21552.],\n",
       "       [20863.],\n",
       "       [13907.],\n",
       "       [14262.],\n",
       "       [25668.],\n",
       "       [27757.],\n",
       "       [26568.],\n",
       "       [26022.],\n",
       "       [26378.],\n",
       "       [16750.],\n",
       "       [16304.],\n",
       "       [28097.],\n",
       "       [29413.],\n",
       "       [24500.],\n",
       "       [26053.],\n",
       "       [25525.],\n",
       "       [16653.],\n",
       "       [16803.],\n",
       "       [26567.],\n",
       "       [23083.],\n",
       "       [25406.],\n",
       "       [24357.],\n",
       "       [24198.],\n",
       "       [15062.],\n",
       "       [10596.],\n",
       "       [25859.],\n",
       "       [24732.],\n",
       "       [25482.],\n",
       "       [23487.],\n",
       "       [12841.],\n",
       "       [14136.],\n",
       "       [14637.],\n",
       "       [18254.],\n",
       "       [25682.],\n",
       "       [26197.],\n",
       "       [26703.],\n",
       "       [17468.],\n",
       "       [17439.],\n",
       "       [10800.],\n",
       "       [27439.],\n",
       "       [28786.],\n",
       "       [29145.],\n",
       "       [29270.],\n",
       "       [28838.],\n",
       "       [20560.],\n",
       "       [24383.],\n",
       "       [23815.],\n",
       "       [28927.],\n",
       "       [28971.],\n",
       "       [30474.],\n",
       "       [29703.],\n",
       "       [29242.],\n",
       "       [26092.],\n",
       "       [31480.],\n",
       "       [34996.],\n",
       "       [35420.],\n",
       "       [27219.],\n",
       "       [28255.],\n",
       "       [22795.],\n",
       "       [ 9641.],\n",
       "       [26532.],\n",
       "       [29701.],\n",
       "       [25449.],\n",
       "       [24884.],\n",
       "       [23635.],\n",
       "       [19951.],\n",
       "       [12111.],\n",
       "       [27725.],\n",
       "       [21718.],\n",
       "       [26816.],\n",
       "       [23699.],\n",
       "       [26123.],\n",
       "       [14594.],\n",
       "       [14390.],\n",
       "       [27824.],\n",
       "       [27683.],\n",
       "       [30485.],\n",
       "       [31307.],\n",
       "       [28229.],\n",
       "       [25897.],\n",
       "       [27408.],\n",
       "       [31215.],\n",
       "       [31955.],\n",
       "       [31263.],\n",
       "       [32315.],\n",
       "       [35321.],\n",
       "       [33026.],\n",
       "       [20325.],\n",
       "       [31834.],\n",
       "       [24529.],\n",
       "       [27059.],\n",
       "       [25493.],\n",
       "       [27536.],\n",
       "       [20423.],\n",
       "       [16897.],\n",
       "       [26527.],\n",
       "       [25534.],\n",
       "       [31699.],\n",
       "       [30961.],\n",
       "       [27403.],\n",
       "       [19856.],\n",
       "       [20896.],\n",
       "       [30837.],\n",
       "       [31842.],\n",
       "       [37203.],\n",
       "       [36574.],\n",
       "       [36505.],\n",
       "       [38712.],\n",
       "       [36686.],\n",
       "       [35435.],\n",
       "       [34948.],\n",
       "       [34593.],\n",
       "       [34494.],\n",
       "       [32006.],\n",
       "       [18379.],\n",
       "       [22631.],\n",
       "       [33748.],\n",
       "       [38908.],\n",
       "       [37952.],\n",
       "       [32563.],\n",
       "       [28182.],\n",
       "       [19806.],\n",
       "       [22896.],\n",
       "       [22472.],\n",
       "       [34646.],\n",
       "       [20276.],\n",
       "       [28404.],\n",
       "       [34078.],\n",
       "       [25475.],\n",
       "       [31836.],\n",
       "       [37537.],\n",
       "       [39647.],\n",
       "       [39054.],\n",
       "       [38408.],\n",
       "       [29846.],\n",
       "       [28138.],\n",
       "       [26727.],\n",
       "       [36072.],\n",
       "       [41251.],\n",
       "       [40312.],\n",
       "       [41314.],\n",
       "       [37280.],\n",
       "       [33151.],\n",
       "       [26802.],\n",
       "       [28309.],\n",
       "       [34443.],\n",
       "       [31203.],\n",
       "       [39450.],\n",
       "       [39017.],\n",
       "       [40800.],\n",
       "       [33865.],\n",
       "       [37306.],\n",
       "       [31948.],\n",
       "       [38033.],\n",
       "       [38141.],\n",
       "       [25122.],\n",
       "       [26656.],\n",
       "       [29311.],\n",
       "       [13358.],\n",
       "       [34285.],\n",
       "       [25449.],\n",
       "       [26617.],\n",
       "       [33837.],\n",
       "       [28235.],\n",
       "       [26102.],\n",
       "       [38894.],\n",
       "       [29854.],\n",
       "       [33190.],\n",
       "       [38345.],\n",
       "       [38656.],\n",
       "       [36858.],\n",
       "       [30851.],\n",
       "       [38617.],\n",
       "       [38200.],\n",
       "       [39620.],\n",
       "       [41692.],\n",
       "       [39986.],\n",
       "       [38616.],\n",
       "       [33990.],\n",
       "       [39257.],\n",
       "       [42658.],\n",
       "       [43924.],\n",
       "       [44668.],\n",
       "       [42466.],\n",
       "       [34018.],\n",
       "       [29889.],\n",
       "       [39670.],\n",
       "       [41447.],\n",
       "       [42343.],\n",
       "       [41916.],\n",
       "       [41305.],\n",
       "       [36204.],\n",
       "       [27858.],\n",
       "       [39489.],\n",
       "       [43693.],\n",
       "       [41959.],\n",
       "       [34240.],\n",
       "       [25620.],\n",
       "       [31351.],\n",
       "       [33251.],\n",
       "       [40842.],\n",
       "       [44457.],\n",
       "       [42296.],\n",
       "       [39323.],\n",
       "       [31517.],\n",
       "       [19950.],\n",
       "       [29319.],\n",
       "       [41472.],\n",
       "       [27449.],\n",
       "       [38299.],\n",
       "       [39898.],\n",
       "       [38278.],\n",
       "       [39388.],\n",
       "       [34341.],\n",
       "       [34041.],\n",
       "       [39369.],\n",
       "       [37776.],\n",
       "       [40667.],\n",
       "       [30719.],\n",
       "       [25956.],\n",
       "       [29952.],\n",
       "       [29570.],\n",
       "       [39534.],\n",
       "       [19154.],\n",
       "       [38018.],\n",
       "       [23388.],\n",
       "       [29360.],\n",
       "       [24122.],\n",
       "       [33048.],\n",
       "       [39255.],\n",
       "       [38251.],\n",
       "       [38056.],\n",
       "       [35995.],\n",
       "       [30776.],\n",
       "       [31355.],\n",
       "       [33150.],\n",
       "       [37597.],\n",
       "       [36576.],\n",
       "       [38337.],\n",
       "       [37147.],\n",
       "       [30847.],\n",
       "       [29486.],\n",
       "       [35280.],\n",
       "       [37229.],\n",
       "       [33933.],\n",
       "       [36722.],\n",
       "       [31798.],\n",
       "       [28038.],\n",
       "       [27969.],\n",
       "       [29440.],\n",
       "       [36814.],\n",
       "       [35787.],\n",
       "       [38252.],\n",
       "       [37354.],\n",
       "       [34966.],\n",
       "       [33698.],\n",
       "       [32747.],\n",
       "       [39025.],\n",
       "       [38751.],\n",
       "       [38271.],\n",
       "       [37699.],\n",
       "       [36479.],\n",
       "       [24154.],\n",
       "       [30941.],\n",
       "       [21563.],\n",
       "       [32427.],\n",
       "       [28976.],\n",
       "       [29557.],\n",
       "       [24960.],\n",
       "       [15478.],\n",
       "       [27787.],\n",
       "       [24631.],\n",
       "       [33923.],\n",
       "       [32707.],\n",
       "       [32314.],\n",
       "       [26578.],\n",
       "       [21690.],\n",
       "       [28418.],\n",
       "       [32894.],\n",
       "       [34874.],\n",
       "       [35641.],\n",
       "       [25222.],\n",
       "       [10047.],\n",
       "       [16040.],\n",
       "       [22519.],\n",
       "       [34372.],\n",
       "       [30763.],\n",
       "       [30259.],\n",
       "       [29675.],\n",
       "       [25400.],\n",
       "       [20545.],\n",
       "       [24215.],\n",
       "       [33916.],\n",
       "       [31786.],\n",
       "       [23489.],\n",
       "       [28988.],\n",
       "       [14397.],\n",
       "       [22155.],\n",
       "       [30208.],\n",
       "       [31225.],\n",
       "       [32157.],\n",
       "       [30951.],\n",
       "       [25128.],\n",
       "       [14557.],\n",
       "       [18356.],\n",
       "       [29198.],\n",
       "       [31016.],\n",
       "       [30745.],\n",
       "       [30244.],\n",
       "       [26194.],\n",
       "       [12350.],\n",
       "       [18491.],\n",
       "       [28080.],\n",
       "       [27391.],\n",
       "       [29661.],\n",
       "       [28649.],\n",
       "       [21318.],\n",
       "       [18553.],\n",
       "       [18082.],\n",
       "       [28521.],\n",
       "       [28760.],\n",
       "       [29437.],\n",
       "       [27064.],\n",
       "       [24865.],\n",
       "       [14904.],\n",
       "       [15599.],\n",
       "       [25722.],\n",
       "       [26982.],\n",
       "       [26575.],\n",
       "       [26030.],\n",
       "       [28463.],\n",
       "       [18176.],\n",
       "       [14242.],\n",
       "       [27306.],\n",
       "       [29645.],\n",
       "       [29458.],\n",
       "       [28547.],\n",
       "       [21917.],\n",
       "       [19235.],\n",
       "       [15139.],\n",
       "       [27089.],\n",
       "       [24198.],\n",
       "       [27414.],\n",
       "       [19740.],\n",
       "       [23189.],\n",
       "       [14862.],\n",
       "       [14077.],\n",
       "       [24344.],\n",
       "       [19747.],\n",
       "       [24745.],\n",
       "       [21679.],\n",
       "       [14451.],\n",
       "       [ 9370.],\n",
       "       [10407.],\n",
       "       [15878.],\n",
       "       [10478.],\n",
       "       [34674.],\n",
       "       [ 5649.],\n",
       "       [11718.],\n",
       "       [11414.],\n",
       "       [12256.],\n",
       "       [16166.],\n",
       "       [13043.]])"
      ]
     },
     "execution_count": 59,
     "metadata": {},
     "output_type": "execute_result"
    }
   ],
   "source": [
    "tfl_2021"
   ]
  },
  {
   "cell_type": "code",
   "execution_count": 60,
   "id": "fd105d30-10d1-4c58-a528-f660dab77c54",
   "metadata": {},
   "outputs": [
    {
     "data": {
      "text/plain": [
       "(730, 1)"
      ]
     },
     "execution_count": 60,
     "metadata": {},
     "output_type": "execute_result"
    }
   ],
   "source": [
    "tfl_2021.shape"
   ]
  },
  {
   "cell_type": "code",
   "execution_count": null,
   "id": "e6bb1614-dd05-4219-b125-bd2410edb680",
   "metadata": {},
   "outputs": [],
   "source": []
  },
  {
   "cell_type": "markdown",
   "id": "32542eb0-b47f-4b5e-a16f-2cd32380c5f1",
   "metadata": {},
   "source": [
    "Now-\n",
    "1.Find the sum of the columns\n",
    "2.Find the average number of bike hires for both columns\n",
    "3.Find the maximum number of bike hires in both columns\n"
   ]
  },
  {
   "cell_type": "code",
   "execution_count": 63,
   "id": "c4580579-de5d-405b-8558-92abcc5b8351",
   "metadata": {},
   "outputs": [
    {
     "data": {
      "text/plain": [
       "array([20992495.])"
      ]
     },
     "execution_count": 63,
     "metadata": {},
     "output_type": "execute_result"
    }
   ],
   "source": [
    "# Sum the columns here\n",
    "np.sum(tfl_2021,axis=0)"
   ]
  },
  {
   "cell_type": "code",
   "execution_count": 65,
   "id": "8476ce8c-ab91-42ed-90fe-d688172e01a6",
   "metadata": {},
   "outputs": [
    {
     "data": {
      "text/plain": [
       "array([28756.84246575])"
      ]
     },
     "execution_count": 65,
     "metadata": {},
     "output_type": "execute_result"
    }
   ],
   "source": [
    "# Find the average of the columns here\n",
    "np.mean(tfl_2021,axis=0)"
   ]
  },
  {
   "cell_type": "code",
   "execution_count": 66,
   "id": "2981d981-4447-486f-831a-6978404857a0",
   "metadata": {},
   "outputs": [
    {
     "data": {
      "text/plain": [
       "array([46084.])"
      ]
     },
     "execution_count": 66,
     "metadata": {},
     "output_type": "execute_result"
    }
   ],
   "source": [
    "# Find the maximum of both columns here\n",
    "np.max(tfl_2021,axis=0)"
   ]
  },
  {
   "cell_type": "code",
   "execution_count": null,
   "id": "58d4db55-430b-40a5-93c8-85bb00a15957",
   "metadata": {},
   "outputs": [],
   "source": []
  }
 ],
 "metadata": {
  "kernelspec": {
   "display_name": "Python 3 (ipykernel)",
   "language": "python",
   "name": "python3"
  },
  "language_info": {
   "codemirror_mode": {
    "name": "ipython",
    "version": 3
   },
   "file_extension": ".py",
   "mimetype": "text/x-python",
   "name": "python",
   "nbconvert_exporter": "python",
   "pygments_lexer": "ipython3",
   "version": "3.12.7"
  }
 },
 "nbformat": 4,
 "nbformat_minor": 5
}
